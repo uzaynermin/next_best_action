{
 "cells": [
  {
   "cell_type": "code",
   "execution_count": 1,
   "id": "09410979",
   "metadata": {
    "scrolled": true
   },
   "outputs": [],
   "source": [
    "import matplotlib.pyplot as plt\n",
    "import numpy as np\n",
    "import pandas as pd\n",
    "import seaborn as sns"
   ]
  },
  {
   "cell_type": "code",
   "execution_count": 2,
   "id": "11d776d9",
   "metadata": {},
   "outputs": [],
   "source": [
    "data = pd.read_csv(\"bank (1).csv\")\n",
    "#print(data.head(20))"
   ]
  },
  {
   "cell_type": "code",
   "execution_count": 35,
   "id": "8328adc9",
   "metadata": {},
   "outputs": [
    {
     "name": "stdout",
     "output_type": "stream",
     "text": [
      "       age           job   marital  education  default  balance  housing  \\\n",
      "11142   52        admin.  divorced  secondary        0       48        0   \n",
      "11143   38    unemployed  divorced  secondary        0      189        1   \n",
      "11144   60       retired   married  secondary        0        0        1   \n",
      "11145   60       retired  divorced   tertiary        0     -134        0   \n",
      "11146   30        admin.   married  secondary        1       23        0   \n",
      "11147   44    unemployed   married  secondary        0        0        0   \n",
      "11148   32   blue-collar   married  secondary        0        1        1   \n",
      "11149   46  entrepreneur   married  secondary        0     3317        0   \n",
      "11150   34    management   married  secondary        0      355        0   \n",
      "11151   40    management   married   tertiary        0      917        1   \n",
      "11152   34     housemaid   married  secondary        0      390        1   \n",
      "11153   43        admin.    single  secondary        0       35        0   \n",
      "11154   52    technician   married   tertiary        0      523        1   \n",
      "11155   35   blue-collar   married  secondary        0       80        1   \n",
      "11156   34   blue-collar    single  secondary        0      -72        1   \n",
      "11157   33   blue-collar    single    primary        0        1        1   \n",
      "11158   39      services   married  secondary        0      733        0   \n",
      "11159   32    technician    single  secondary        0       29        0   \n",
      "11160   43    technician   married  secondary        0        0        0   \n",
      "11161   34    technician   married  secondary        0        0        0   \n",
      "\n",
      "       loan    contact  day  ... job_technician  job_admin.  job_services  \\\n",
      "11142     1   cellular   17  ...              0           1             0   \n",
      "11143     1   cellular   21  ...              0           0             0   \n",
      "11144     0    unknown   15  ...              0           0             0   \n",
      "11145     0   cellular   12  ...              0           0             0   \n",
      "11146     1   cellular    4  ...              0           1             0   \n",
      "11147     0   cellular   21  ...              0           0             0   \n",
      "11148     0    unknown    8  ...              0           0             0   \n",
      "11149     0   cellular   19  ...              0           0             0   \n",
      "11150     0   cellular   21  ...              0           0             0   \n",
      "11151     0    unknown   20  ...              0           0             0   \n",
      "11152     0   cellular   15  ...              0           0             0   \n",
      "11153     0  telephone    9  ...              0           1             0   \n",
      "11154     1   cellular    8  ...              1           0             0   \n",
      "11155     1   cellular   21  ...              0           0             0   \n",
      "11156     0   cellular    7  ...              0           0             0   \n",
      "11157     0   cellular   20  ...              0           0             0   \n",
      "11158     0    unknown   16  ...              0           0             1   \n",
      "11159     0   cellular   19  ...              1           0             0   \n",
      "11160     1   cellular    8  ...              1           0             0   \n",
      "11161     0   cellular    9  ...              1           0             0   \n",
      "\n",
      "       job_retired  job_self-employed job_student  job_unemployed  \\\n",
      "11142            0                  0           0               0   \n",
      "11143            0                  0           0               1   \n",
      "11144            1                  0           0               0   \n",
      "11145            1                  0           0               0   \n",
      "11146            0                  0           0               0   \n",
      "11147            0                  0           0               1   \n",
      "11148            0                  0           0               0   \n",
      "11149            0                  0           0               0   \n",
      "11150            0                  0           0               0   \n",
      "11151            0                  0           0               0   \n",
      "11152            0                  0           0               0   \n",
      "11153            0                  0           0               0   \n",
      "11154            0                  0           0               0   \n",
      "11155            0                  0           0               0   \n",
      "11156            0                  0           0               0   \n",
      "11157            0                  0           0               0   \n",
      "11158            0                  0           0               0   \n",
      "11159            0                  0           0               0   \n",
      "11160            0                  0           0               0   \n",
      "11161            0                  0           0               0   \n",
      "\n",
      "       job_entrepreneur  job_housemaid  job_unknown  \n",
      "11142                 0              0            0  \n",
      "11143                 0              0            0  \n",
      "11144                 0              0            0  \n",
      "11145                 0              0            0  \n",
      "11146                 0              0            0  \n",
      "11147                 0              0            0  \n",
      "11148                 0              0            0  \n",
      "11149                 1              0            0  \n",
      "11150                 0              0            0  \n",
      "11151                 0              0            0  \n",
      "11152                 0              1            0  \n",
      "11153                 0              0            0  \n",
      "11154                 0              0            0  \n",
      "11155                 0              0            0  \n",
      "11156                 0              0            0  \n",
      "11157                 0              0            0  \n",
      "11158                 0              0            0  \n",
      "11159                 0              0            0  \n",
      "11160                 0              0            0  \n",
      "11161                 0              0            0  \n",
      "\n",
      "[20 rows x 29 columns]\n"
     ]
    }
   ],
   "source": [
    "data[\"housing\"] = data[\"housing\"].replace(\"yes\",1)\n",
    "data[\"housing\"] = data[\"housing\"].replace(\"no\",0)\n",
    "data[\"loan\"] = data[\"loan\"].replace(\"yes\",1)\n",
    "data[\"loan\"] = data[\"loan\"].replace(\"no\",0)\n",
    "data[\"default\"] = data[\"default\"].replace(\"yes\",1)\n",
    "data[\"default\"] = data[\"default\"].replace(\"no\",0)\n",
    "data[\"deposit\"] = data[\"deposit\"].replace(\"yes\",1)\n",
    "data[\"deposit\"] = data[\"deposit\"].replace(\"no\",0)\n",
    "data[\"poutcome\"] = data[\"poutcome\"].replace(\"failure\",0)\n",
    "print(data.tail(20))"
   ]
  },
  {
   "cell_type": "code",
   "execution_count": 5,
   "id": "38227753",
   "metadata": {},
   "outputs": [
    {
     "data": {
      "text/plain": [
       "KstestResult(statistic=0.8611299442905344, pvalue=0.0)"
      ]
     },
     "execution_count": 5,
     "metadata": {},
     "output_type": "execute_result"
    }
   ],
   "source": [
    "from scipy import stats\n",
    "stats.kstest(data.balance, 'norm')"
   ]
  },
  {
   "cell_type": "code",
   "execution_count": 3,
   "id": "53b68d1f",
   "metadata": {},
   "outputs": [
    {
     "data": {
      "text/plain": [
       "age          0\n",
       "job          0\n",
       "marital      0\n",
       "education    0\n",
       "default      0\n",
       "balance      0\n",
       "housing      0\n",
       "loan         0\n",
       "contact      0\n",
       "day          0\n",
       "month        0\n",
       "duration     0\n",
       "campaign     0\n",
       "pdays        0\n",
       "previous     0\n",
       "poutcome     0\n",
       "deposit      0\n",
       "dtype: int64"
      ]
     },
     "execution_count": 3,
     "metadata": {},
     "output_type": "execute_result"
    }
   ],
   "source": [
    "data.isnull().sum()"
   ]
  },
  {
   "cell_type": "code",
   "execution_count": 4,
   "id": "a3954b64",
   "metadata": {},
   "outputs": [],
   "source": [
    "from sklearn.preprocessing import LabelEncoder\n",
    "labelEncoder = LabelEncoder()\n",
    "data['deposit'] = labelEncoder.fit_transform(data['deposit'])\n",
    "data['marital'] = labelEncoder.fit_transform(data['marital'])\n",
    "data['education'] = labelEncoder.fit_transform(data['education'])\n",
    "data['default'] = labelEncoder.fit_transform(data['default'])\n",
    "data['housing'] = labelEncoder.fit_transform(data['housing'])\n",
    "data['loan'] = labelEncoder.fit_transform(data['loan'])\n",
    "data['poutcome'] = labelEncoder.fit_transform(data['poutcome'])"
   ]
  },
  {
   "cell_type": "code",
   "execution_count": 5,
   "id": "83c58b8c",
   "metadata": {},
   "outputs": [
    {
     "data": {
      "text/plain": [
       "may    2824\n",
       "aug    1519\n",
       "jul    1514\n",
       "jun    1222\n",
       "nov     943\n",
       "apr     923\n",
       "feb     776\n",
       "oct     392\n",
       "jan     344\n",
       "sep     319\n",
       "mar     276\n",
       "dec     110\n",
       "Name: month, dtype: int64"
      ]
     },
     "execution_count": 5,
     "metadata": {},
     "output_type": "execute_result"
    }
   ],
   "source": [
    "data[\"month\"].value_counts().sort_values(ascending = False).head(20)"
   ]
  },
  {
   "cell_type": "code",
   "execution_count": 6,
   "id": "7f7160d4",
   "metadata": {},
   "outputs": [
    {
     "data": {
      "text/plain": [
       "management       2566\n",
       "blue-collar      1944\n",
       "technician       1823\n",
       "admin.           1334\n",
       "services          923\n",
       "retired           778\n",
       "self-employed     405\n",
       "student           360\n",
       "unemployed        357\n",
       "entrepreneur      328\n",
       "housemaid         274\n",
       "unknown            70\n",
       "Name: job, dtype: int64"
      ]
     },
     "execution_count": 6,
     "metadata": {},
     "output_type": "execute_result"
    }
   ],
   "source": [
    "data[\"job\"].value_counts().sort_values(ascending = False).head(20)"
   ]
  },
  {
   "cell_type": "code",
   "execution_count": 7,
   "id": "e070bbb6",
   "metadata": {},
   "outputs": [],
   "source": [
    "def one_hot_encode_top(df, col, top_6_labels):\n",
    "    for label in top_6_labels:\n",
    "        df[col+'_'+label] = np.where(df[col] == label,1,0)\n",
    "bank_new = pd.read_csv('bank (1).csv', usecols = ['job', 'month']) "
   ]
  },
  {
   "cell_type": "code",
   "execution_count": 8,
   "id": "ae0b1eb7",
   "metadata": {},
   "outputs": [
    {
     "data": {
      "text/html": [
       "<div>\n",
       "<style scoped>\n",
       "    .dataframe tbody tr th:only-of-type {\n",
       "        vertical-align: middle;\n",
       "    }\n",
       "\n",
       "    .dataframe tbody tr th {\n",
       "        vertical-align: top;\n",
       "    }\n",
       "\n",
       "    .dataframe thead th {\n",
       "        text-align: right;\n",
       "    }\n",
       "</style>\n",
       "<table border=\"1\" class=\"dataframe\">\n",
       "  <thead>\n",
       "    <tr style=\"text-align: right;\">\n",
       "      <th></th>\n",
       "      <th>age</th>\n",
       "      <th>job</th>\n",
       "      <th>marital</th>\n",
       "      <th>education</th>\n",
       "      <th>default</th>\n",
       "      <th>balance</th>\n",
       "      <th>housing</th>\n",
       "      <th>loan</th>\n",
       "      <th>contact</th>\n",
       "      <th>day</th>\n",
       "      <th>...</th>\n",
       "      <th>job_technician</th>\n",
       "      <th>job_admin.</th>\n",
       "      <th>job_services</th>\n",
       "      <th>job_retired</th>\n",
       "      <th>job_self-employed</th>\n",
       "      <th>job_student</th>\n",
       "      <th>job_unemployed</th>\n",
       "      <th>job_entrepreneur</th>\n",
       "      <th>job_housemaid</th>\n",
       "      <th>job_unknown</th>\n",
       "    </tr>\n",
       "  </thead>\n",
       "  <tbody>\n",
       "    <tr>\n",
       "      <th>0</th>\n",
       "      <td>59</td>\n",
       "      <td>admin.</td>\n",
       "      <td>1</td>\n",
       "      <td>1</td>\n",
       "      <td>0</td>\n",
       "      <td>2343</td>\n",
       "      <td>1</td>\n",
       "      <td>0</td>\n",
       "      <td>unknown</td>\n",
       "      <td>5</td>\n",
       "      <td>...</td>\n",
       "      <td>0</td>\n",
       "      <td>1</td>\n",
       "      <td>0</td>\n",
       "      <td>0</td>\n",
       "      <td>0</td>\n",
       "      <td>0</td>\n",
       "      <td>0</td>\n",
       "      <td>0</td>\n",
       "      <td>0</td>\n",
       "      <td>0</td>\n",
       "    </tr>\n",
       "    <tr>\n",
       "      <th>1</th>\n",
       "      <td>56</td>\n",
       "      <td>admin.</td>\n",
       "      <td>1</td>\n",
       "      <td>1</td>\n",
       "      <td>0</td>\n",
       "      <td>45</td>\n",
       "      <td>0</td>\n",
       "      <td>0</td>\n",
       "      <td>unknown</td>\n",
       "      <td>5</td>\n",
       "      <td>...</td>\n",
       "      <td>0</td>\n",
       "      <td>1</td>\n",
       "      <td>0</td>\n",
       "      <td>0</td>\n",
       "      <td>0</td>\n",
       "      <td>0</td>\n",
       "      <td>0</td>\n",
       "      <td>0</td>\n",
       "      <td>0</td>\n",
       "      <td>0</td>\n",
       "    </tr>\n",
       "    <tr>\n",
       "      <th>2</th>\n",
       "      <td>41</td>\n",
       "      <td>technician</td>\n",
       "      <td>1</td>\n",
       "      <td>1</td>\n",
       "      <td>0</td>\n",
       "      <td>1270</td>\n",
       "      <td>1</td>\n",
       "      <td>0</td>\n",
       "      <td>unknown</td>\n",
       "      <td>5</td>\n",
       "      <td>...</td>\n",
       "      <td>1</td>\n",
       "      <td>0</td>\n",
       "      <td>0</td>\n",
       "      <td>0</td>\n",
       "      <td>0</td>\n",
       "      <td>0</td>\n",
       "      <td>0</td>\n",
       "      <td>0</td>\n",
       "      <td>0</td>\n",
       "      <td>0</td>\n",
       "    </tr>\n",
       "    <tr>\n",
       "      <th>3</th>\n",
       "      <td>55</td>\n",
       "      <td>services</td>\n",
       "      <td>1</td>\n",
       "      <td>1</td>\n",
       "      <td>0</td>\n",
       "      <td>2476</td>\n",
       "      <td>1</td>\n",
       "      <td>0</td>\n",
       "      <td>unknown</td>\n",
       "      <td>5</td>\n",
       "      <td>...</td>\n",
       "      <td>0</td>\n",
       "      <td>0</td>\n",
       "      <td>1</td>\n",
       "      <td>0</td>\n",
       "      <td>0</td>\n",
       "      <td>0</td>\n",
       "      <td>0</td>\n",
       "      <td>0</td>\n",
       "      <td>0</td>\n",
       "      <td>0</td>\n",
       "    </tr>\n",
       "    <tr>\n",
       "      <th>4</th>\n",
       "      <td>54</td>\n",
       "      <td>admin.</td>\n",
       "      <td>1</td>\n",
       "      <td>2</td>\n",
       "      <td>0</td>\n",
       "      <td>184</td>\n",
       "      <td>0</td>\n",
       "      <td>0</td>\n",
       "      <td>unknown</td>\n",
       "      <td>5</td>\n",
       "      <td>...</td>\n",
       "      <td>0</td>\n",
       "      <td>1</td>\n",
       "      <td>0</td>\n",
       "      <td>0</td>\n",
       "      <td>0</td>\n",
       "      <td>0</td>\n",
       "      <td>0</td>\n",
       "      <td>0</td>\n",
       "      <td>0</td>\n",
       "      <td>0</td>\n",
       "    </tr>\n",
       "  </tbody>\n",
       "</table>\n",
       "<p>5 rows × 29 columns</p>\n",
       "</div>"
      ],
      "text/plain": [
       "   age         job  marital  education  default  balance  housing  loan  \\\n",
       "0   59      admin.        1          1        0     2343        1     0   \n",
       "1   56      admin.        1          1        0       45        0     0   \n",
       "2   41  technician        1          1        0     1270        1     0   \n",
       "3   55    services        1          1        0     2476        1     0   \n",
       "4   54      admin.        1          2        0      184        0     0   \n",
       "\n",
       "   contact  day  ... job_technician  job_admin.  job_services  job_retired  \\\n",
       "0  unknown    5  ...              0           1             0            0   \n",
       "1  unknown    5  ...              0           1             0            0   \n",
       "2  unknown    5  ...              1           0             0            0   \n",
       "3  unknown    5  ...              0           0             1            0   \n",
       "4  unknown    5  ...              0           1             0            0   \n",
       "\n",
       "   job_self-employed  job_student  job_unemployed  job_entrepreneur  \\\n",
       "0                  0            0               0                 0   \n",
       "1                  0            0               0                 0   \n",
       "2                  0            0               0                 0   \n",
       "3                  0            0               0                 0   \n",
       "4                  0            0               0                 0   \n",
       "\n",
       "   job_housemaid  job_unknown  \n",
       "0              0            0  \n",
       "1              0            0  \n",
       "2              0            0  \n",
       "3              0            0  \n",
       "4              0            0  \n",
       "\n",
       "[5 rows x 29 columns]"
      ]
     },
     "execution_count": 8,
     "metadata": {},
     "output_type": "execute_result"
    }
   ],
   "source": [
    "top_6_labels = [x for x in data[\"job\"].value_counts().sort_values(ascending = False).head(12).index]\n",
    "one_hot_encode_top(data, \"job\", top_6_labels)\n",
    "data.head()\n",
    "#burada meslek isimlerini sütün yaparak o mesleğe sahip olan müşterinin ilgili sütünunu 1 olarak gösterdim \n",
    "#bu sayede dataseti 0-1'ler ile doldurmaya çalıştım"
   ]
  },
  {
   "cell_type": "code",
   "execution_count": 9,
   "id": "82600404",
   "metadata": {},
   "outputs": [
    {
     "data": {
      "text/html": [
       "<div>\n",
       "<style scoped>\n",
       "    .dataframe tbody tr th:only-of-type {\n",
       "        vertical-align: middle;\n",
       "    }\n",
       "\n",
       "    .dataframe tbody tr th {\n",
       "        vertical-align: top;\n",
       "    }\n",
       "\n",
       "    .dataframe thead th {\n",
       "        text-align: right;\n",
       "    }\n",
       "</style>\n",
       "<table border=\"1\" class=\"dataframe\">\n",
       "  <thead>\n",
       "    <tr style=\"text-align: right;\">\n",
       "      <th></th>\n",
       "      <th>age</th>\n",
       "      <th>job</th>\n",
       "      <th>marital</th>\n",
       "      <th>education</th>\n",
       "      <th>default</th>\n",
       "      <th>balance</th>\n",
       "      <th>housing</th>\n",
       "      <th>loan</th>\n",
       "      <th>contact</th>\n",
       "      <th>day</th>\n",
       "      <th>...</th>\n",
       "      <th>month_jul</th>\n",
       "      <th>month_jun</th>\n",
       "      <th>month_nov</th>\n",
       "      <th>month_apr</th>\n",
       "      <th>month_feb</th>\n",
       "      <th>month_oct</th>\n",
       "      <th>month_jan</th>\n",
       "      <th>month_sep</th>\n",
       "      <th>month_mar</th>\n",
       "      <th>month_dec</th>\n",
       "    </tr>\n",
       "  </thead>\n",
       "  <tbody>\n",
       "    <tr>\n",
       "      <th>0</th>\n",
       "      <td>59</td>\n",
       "      <td>admin.</td>\n",
       "      <td>1</td>\n",
       "      <td>1</td>\n",
       "      <td>0</td>\n",
       "      <td>2343</td>\n",
       "      <td>1</td>\n",
       "      <td>0</td>\n",
       "      <td>unknown</td>\n",
       "      <td>5</td>\n",
       "      <td>...</td>\n",
       "      <td>0</td>\n",
       "      <td>0</td>\n",
       "      <td>0</td>\n",
       "      <td>0</td>\n",
       "      <td>0</td>\n",
       "      <td>0</td>\n",
       "      <td>0</td>\n",
       "      <td>0</td>\n",
       "      <td>0</td>\n",
       "      <td>0</td>\n",
       "    </tr>\n",
       "    <tr>\n",
       "      <th>1</th>\n",
       "      <td>56</td>\n",
       "      <td>admin.</td>\n",
       "      <td>1</td>\n",
       "      <td>1</td>\n",
       "      <td>0</td>\n",
       "      <td>45</td>\n",
       "      <td>0</td>\n",
       "      <td>0</td>\n",
       "      <td>unknown</td>\n",
       "      <td>5</td>\n",
       "      <td>...</td>\n",
       "      <td>0</td>\n",
       "      <td>0</td>\n",
       "      <td>0</td>\n",
       "      <td>0</td>\n",
       "      <td>0</td>\n",
       "      <td>0</td>\n",
       "      <td>0</td>\n",
       "      <td>0</td>\n",
       "      <td>0</td>\n",
       "      <td>0</td>\n",
       "    </tr>\n",
       "    <tr>\n",
       "      <th>2</th>\n",
       "      <td>41</td>\n",
       "      <td>technician</td>\n",
       "      <td>1</td>\n",
       "      <td>1</td>\n",
       "      <td>0</td>\n",
       "      <td>1270</td>\n",
       "      <td>1</td>\n",
       "      <td>0</td>\n",
       "      <td>unknown</td>\n",
       "      <td>5</td>\n",
       "      <td>...</td>\n",
       "      <td>0</td>\n",
       "      <td>0</td>\n",
       "      <td>0</td>\n",
       "      <td>0</td>\n",
       "      <td>0</td>\n",
       "      <td>0</td>\n",
       "      <td>0</td>\n",
       "      <td>0</td>\n",
       "      <td>0</td>\n",
       "      <td>0</td>\n",
       "    </tr>\n",
       "    <tr>\n",
       "      <th>3</th>\n",
       "      <td>55</td>\n",
       "      <td>services</td>\n",
       "      <td>1</td>\n",
       "      <td>1</td>\n",
       "      <td>0</td>\n",
       "      <td>2476</td>\n",
       "      <td>1</td>\n",
       "      <td>0</td>\n",
       "      <td>unknown</td>\n",
       "      <td>5</td>\n",
       "      <td>...</td>\n",
       "      <td>0</td>\n",
       "      <td>0</td>\n",
       "      <td>0</td>\n",
       "      <td>0</td>\n",
       "      <td>0</td>\n",
       "      <td>0</td>\n",
       "      <td>0</td>\n",
       "      <td>0</td>\n",
       "      <td>0</td>\n",
       "      <td>0</td>\n",
       "    </tr>\n",
       "    <tr>\n",
       "      <th>4</th>\n",
       "      <td>54</td>\n",
       "      <td>admin.</td>\n",
       "      <td>1</td>\n",
       "      <td>2</td>\n",
       "      <td>0</td>\n",
       "      <td>184</td>\n",
       "      <td>0</td>\n",
       "      <td>0</td>\n",
       "      <td>unknown</td>\n",
       "      <td>5</td>\n",
       "      <td>...</td>\n",
       "      <td>0</td>\n",
       "      <td>0</td>\n",
       "      <td>0</td>\n",
       "      <td>0</td>\n",
       "      <td>0</td>\n",
       "      <td>0</td>\n",
       "      <td>0</td>\n",
       "      <td>0</td>\n",
       "      <td>0</td>\n",
       "      <td>0</td>\n",
       "    </tr>\n",
       "  </tbody>\n",
       "</table>\n",
       "<p>5 rows × 41 columns</p>\n",
       "</div>"
      ],
      "text/plain": [
       "   age         job  marital  education  default  balance  housing  loan  \\\n",
       "0   59      admin.        1          1        0     2343        1     0   \n",
       "1   56      admin.        1          1        0       45        0     0   \n",
       "2   41  technician        1          1        0     1270        1     0   \n",
       "3   55    services        1          1        0     2476        1     0   \n",
       "4   54      admin.        1          2        0      184        0     0   \n",
       "\n",
       "   contact  day  ... month_jul  month_jun  month_nov  month_apr  month_feb  \\\n",
       "0  unknown    5  ...         0          0          0          0          0   \n",
       "1  unknown    5  ...         0          0          0          0          0   \n",
       "2  unknown    5  ...         0          0          0          0          0   \n",
       "3  unknown    5  ...         0          0          0          0          0   \n",
       "4  unknown    5  ...         0          0          0          0          0   \n",
       "\n",
       "   month_oct  month_jan  month_sep  month_mar  month_dec  \n",
       "0          0          0          0          0          0  \n",
       "1          0          0          0          0          0  \n",
       "2          0          0          0          0          0  \n",
       "3          0          0          0          0          0  \n",
       "4          0          0          0          0          0  \n",
       "\n",
       "[5 rows x 41 columns]"
      ]
     },
     "execution_count": 9,
     "metadata": {},
     "output_type": "execute_result"
    }
   ],
   "source": [
    "top_6_labels = [x for x in data[\"month\"].value_counts().sort_values(ascending = False).head(6).index]\n",
    "one_hot_encode_top(data, \"month\", top_6_labels)\n",
    "data.head()\n",
    "#burada yukarıdaki işlemi aylar için yaptım"
   ]
  },
  {
   "cell_type": "code",
   "execution_count": 10,
   "id": "72837da3",
   "metadata": {},
   "outputs": [
    {
     "data": {
      "text/html": [
       "<div>\n",
       "<style scoped>\n",
       "    .dataframe tbody tr th:only-of-type {\n",
       "        vertical-align: middle;\n",
       "    }\n",
       "\n",
       "    .dataframe tbody tr th {\n",
       "        vertical-align: top;\n",
       "    }\n",
       "\n",
       "    .dataframe thead th {\n",
       "        text-align: right;\n",
       "    }\n",
       "</style>\n",
       "<table border=\"1\" class=\"dataframe\">\n",
       "  <thead>\n",
       "    <tr style=\"text-align: right;\">\n",
       "      <th></th>\n",
       "      <th>age</th>\n",
       "      <th>marital</th>\n",
       "      <th>education</th>\n",
       "      <th>default</th>\n",
       "      <th>balance</th>\n",
       "      <th>housing</th>\n",
       "      <th>loan</th>\n",
       "      <th>contact</th>\n",
       "      <th>day</th>\n",
       "      <th>duration</th>\n",
       "      <th>...</th>\n",
       "      <th>month_jul</th>\n",
       "      <th>month_jun</th>\n",
       "      <th>month_nov</th>\n",
       "      <th>month_apr</th>\n",
       "      <th>month_feb</th>\n",
       "      <th>month_oct</th>\n",
       "      <th>month_jan</th>\n",
       "      <th>month_sep</th>\n",
       "      <th>month_mar</th>\n",
       "      <th>month_dec</th>\n",
       "    </tr>\n",
       "  </thead>\n",
       "  <tbody>\n",
       "    <tr>\n",
       "      <th>0</th>\n",
       "      <td>59</td>\n",
       "      <td>1</td>\n",
       "      <td>1</td>\n",
       "      <td>0</td>\n",
       "      <td>2343</td>\n",
       "      <td>1</td>\n",
       "      <td>0</td>\n",
       "      <td>unknown</td>\n",
       "      <td>5</td>\n",
       "      <td>1042</td>\n",
       "      <td>...</td>\n",
       "      <td>0</td>\n",
       "      <td>0</td>\n",
       "      <td>0</td>\n",
       "      <td>0</td>\n",
       "      <td>0</td>\n",
       "      <td>0</td>\n",
       "      <td>0</td>\n",
       "      <td>0</td>\n",
       "      <td>0</td>\n",
       "      <td>0</td>\n",
       "    </tr>\n",
       "    <tr>\n",
       "      <th>1</th>\n",
       "      <td>56</td>\n",
       "      <td>1</td>\n",
       "      <td>1</td>\n",
       "      <td>0</td>\n",
       "      <td>45</td>\n",
       "      <td>0</td>\n",
       "      <td>0</td>\n",
       "      <td>unknown</td>\n",
       "      <td>5</td>\n",
       "      <td>1467</td>\n",
       "      <td>...</td>\n",
       "      <td>0</td>\n",
       "      <td>0</td>\n",
       "      <td>0</td>\n",
       "      <td>0</td>\n",
       "      <td>0</td>\n",
       "      <td>0</td>\n",
       "      <td>0</td>\n",
       "      <td>0</td>\n",
       "      <td>0</td>\n",
       "      <td>0</td>\n",
       "    </tr>\n",
       "    <tr>\n",
       "      <th>2</th>\n",
       "      <td>41</td>\n",
       "      <td>1</td>\n",
       "      <td>1</td>\n",
       "      <td>0</td>\n",
       "      <td>1270</td>\n",
       "      <td>1</td>\n",
       "      <td>0</td>\n",
       "      <td>unknown</td>\n",
       "      <td>5</td>\n",
       "      <td>1389</td>\n",
       "      <td>...</td>\n",
       "      <td>0</td>\n",
       "      <td>0</td>\n",
       "      <td>0</td>\n",
       "      <td>0</td>\n",
       "      <td>0</td>\n",
       "      <td>0</td>\n",
       "      <td>0</td>\n",
       "      <td>0</td>\n",
       "      <td>0</td>\n",
       "      <td>0</td>\n",
       "    </tr>\n",
       "    <tr>\n",
       "      <th>3</th>\n",
       "      <td>55</td>\n",
       "      <td>1</td>\n",
       "      <td>1</td>\n",
       "      <td>0</td>\n",
       "      <td>2476</td>\n",
       "      <td>1</td>\n",
       "      <td>0</td>\n",
       "      <td>unknown</td>\n",
       "      <td>5</td>\n",
       "      <td>579</td>\n",
       "      <td>...</td>\n",
       "      <td>0</td>\n",
       "      <td>0</td>\n",
       "      <td>0</td>\n",
       "      <td>0</td>\n",
       "      <td>0</td>\n",
       "      <td>0</td>\n",
       "      <td>0</td>\n",
       "      <td>0</td>\n",
       "      <td>0</td>\n",
       "      <td>0</td>\n",
       "    </tr>\n",
       "    <tr>\n",
       "      <th>4</th>\n",
       "      <td>54</td>\n",
       "      <td>1</td>\n",
       "      <td>2</td>\n",
       "      <td>0</td>\n",
       "      <td>184</td>\n",
       "      <td>0</td>\n",
       "      <td>0</td>\n",
       "      <td>unknown</td>\n",
       "      <td>5</td>\n",
       "      <td>673</td>\n",
       "      <td>...</td>\n",
       "      <td>0</td>\n",
       "      <td>0</td>\n",
       "      <td>0</td>\n",
       "      <td>0</td>\n",
       "      <td>0</td>\n",
       "      <td>0</td>\n",
       "      <td>0</td>\n",
       "      <td>0</td>\n",
       "      <td>0</td>\n",
       "      <td>0</td>\n",
       "    </tr>\n",
       "  </tbody>\n",
       "</table>\n",
       "<p>5 rows × 39 columns</p>\n",
       "</div>"
      ],
      "text/plain": [
       "   age  marital  education  default  balance  housing  loan  contact  day  \\\n",
       "0   59        1          1        0     2343        1     0  unknown    5   \n",
       "1   56        1          1        0       45        0     0  unknown    5   \n",
       "2   41        1          1        0     1270        1     0  unknown    5   \n",
       "3   55        1          1        0     2476        1     0  unknown    5   \n",
       "4   54        1          2        0      184        0     0  unknown    5   \n",
       "\n",
       "   duration  ...  month_jul  month_jun  month_nov  month_apr  month_feb  \\\n",
       "0      1042  ...          0          0          0          0          0   \n",
       "1      1467  ...          0          0          0          0          0   \n",
       "2      1389  ...          0          0          0          0          0   \n",
       "3       579  ...          0          0          0          0          0   \n",
       "4       673  ...          0          0          0          0          0   \n",
       "\n",
       "   month_oct  month_jan  month_sep  month_mar  month_dec  \n",
       "0          0          0          0          0          0  \n",
       "1          0          0          0          0          0  \n",
       "2          0          0          0          0          0  \n",
       "3          0          0          0          0          0  \n",
       "4          0          0          0          0          0  \n",
       "\n",
       "[5 rows x 39 columns]"
      ]
     },
     "execution_count": 10,
     "metadata": {},
     "output_type": "execute_result"
    }
   ],
   "source": [
    "data.drop(columns = [\"job\", \"month\"], axis =1, inplace = True)\n",
    "\n",
    "data.head()\n"
   ]
  },
  {
   "cell_type": "code",
   "execution_count": 11,
   "id": "28adc68e",
   "metadata": {},
   "outputs": [
    {
     "name": "stdout",
     "output_type": "stream",
     "text": [
      "<class 'pandas.core.frame.DataFrame'>\n",
      "RangeIndex: 11162 entries, 0 to 11161\n",
      "Data columns (total 39 columns):\n",
      " #   Column             Non-Null Count  Dtype \n",
      "---  ------             --------------  ----- \n",
      " 0   age                11162 non-null  int64 \n",
      " 1   marital            11162 non-null  int32 \n",
      " 2   education          11162 non-null  int32 \n",
      " 3   default            11162 non-null  int32 \n",
      " 4   balance            11162 non-null  int64 \n",
      " 5   housing            11162 non-null  int32 \n",
      " 6   loan               11162 non-null  int32 \n",
      " 7   contact            11162 non-null  object\n",
      " 8   day                11162 non-null  int64 \n",
      " 9   duration           11162 non-null  int64 \n",
      " 10  campaign           11162 non-null  int64 \n",
      " 11  pdays              11162 non-null  int64 \n",
      " 12  previous           11162 non-null  int64 \n",
      " 13  poutcome           11162 non-null  int32 \n",
      " 14  deposit            11162 non-null  int32 \n",
      " 15  job_management     11162 non-null  int32 \n",
      " 16  job_blue-collar    11162 non-null  int32 \n",
      " 17  job_technician     11162 non-null  int32 \n",
      " 18  job_admin.         11162 non-null  int32 \n",
      " 19  job_services       11162 non-null  int32 \n",
      " 20  job_retired        11162 non-null  int32 \n",
      " 21  job_self-employed  11162 non-null  int32 \n",
      " 22  job_student        11162 non-null  int32 \n",
      " 23  job_unemployed     11162 non-null  int32 \n",
      " 24  job_entrepreneur   11162 non-null  int32 \n",
      " 25  job_housemaid      11162 non-null  int32 \n",
      " 26  job_unknown        11162 non-null  int32 \n",
      " 27  month_may          11162 non-null  int32 \n",
      " 28  month_aug          11162 non-null  int32 \n",
      " 29  month_jul          11162 non-null  int32 \n",
      " 30  month_jun          11162 non-null  int32 \n",
      " 31  month_nov          11162 non-null  int32 \n",
      " 32  month_apr          11162 non-null  int32 \n",
      " 33  month_feb          11162 non-null  int32 \n",
      " 34  month_oct          11162 non-null  int32 \n",
      " 35  month_jan          11162 non-null  int32 \n",
      " 36  month_sep          11162 non-null  int32 \n",
      " 37  month_mar          11162 non-null  int32 \n",
      " 38  month_dec          11162 non-null  int32 \n",
      "dtypes: int32(31), int64(7), object(1)\n",
      "memory usage: 2.0+ MB\n"
     ]
    }
   ],
   "source": [
    "data.info()"
   ]
  },
  {
   "cell_type": "code",
   "execution_count": 12,
   "id": "bb3c1101",
   "metadata": {},
   "outputs": [],
   "source": [
    "data = data.drop(columns = \"contact\", axis = 1)"
   ]
  },
  {
   "cell_type": "code",
   "execution_count": 13,
   "id": "e8693752",
   "metadata": {},
   "outputs": [
    {
     "name": "stdout",
     "output_type": "stream",
     "text": [
      "<class 'pandas.core.frame.DataFrame'>\n",
      "RangeIndex: 11162 entries, 0 to 11161\n",
      "Data columns (total 38 columns):\n",
      " #   Column             Non-Null Count  Dtype\n",
      "---  ------             --------------  -----\n",
      " 0   age                11162 non-null  int64\n",
      " 1   marital            11162 non-null  int32\n",
      " 2   education          11162 non-null  int32\n",
      " 3   default            11162 non-null  int32\n",
      " 4   balance            11162 non-null  int64\n",
      " 5   housing            11162 non-null  int32\n",
      " 6   loan               11162 non-null  int32\n",
      " 7   day                11162 non-null  int64\n",
      " 8   duration           11162 non-null  int64\n",
      " 9   campaign           11162 non-null  int64\n",
      " 10  pdays              11162 non-null  int64\n",
      " 11  previous           11162 non-null  int64\n",
      " 12  poutcome           11162 non-null  int32\n",
      " 13  deposit            11162 non-null  int32\n",
      " 14  job_management     11162 non-null  int32\n",
      " 15  job_blue-collar    11162 non-null  int32\n",
      " 16  job_technician     11162 non-null  int32\n",
      " 17  job_admin.         11162 non-null  int32\n",
      " 18  job_services       11162 non-null  int32\n",
      " 19  job_retired        11162 non-null  int32\n",
      " 20  job_self-employed  11162 non-null  int32\n",
      " 21  job_student        11162 non-null  int32\n",
      " 22  job_unemployed     11162 non-null  int32\n",
      " 23  job_entrepreneur   11162 non-null  int32\n",
      " 24  job_housemaid      11162 non-null  int32\n",
      " 25  job_unknown        11162 non-null  int32\n",
      " 26  month_may          11162 non-null  int32\n",
      " 27  month_aug          11162 non-null  int32\n",
      " 28  month_jul          11162 non-null  int32\n",
      " 29  month_jun          11162 non-null  int32\n",
      " 30  month_nov          11162 non-null  int32\n",
      " 31  month_apr          11162 non-null  int32\n",
      " 32  month_feb          11162 non-null  int32\n",
      " 33  month_oct          11162 non-null  int32\n",
      " 34  month_jan          11162 non-null  int32\n",
      " 35  month_sep          11162 non-null  int32\n",
      " 36  month_mar          11162 non-null  int32\n",
      " 37  month_dec          11162 non-null  int32\n",
      "dtypes: int32(31), int64(7)\n",
      "memory usage: 1.9 MB\n"
     ]
    }
   ],
   "source": [
    "#dataset tamamen int değerlerden oluşuyor artık \n",
    "data.info()"
   ]
  },
  {
   "cell_type": "code",
   "execution_count": 10,
   "id": "7bc1727a",
   "metadata": {
    "scrolled": true
   },
   "outputs": [
    {
     "data": {
      "image/png": "[encoded data removed]",
      "text/plain": [
       "<Figure size 432x288 with 1 Axes>"
      ]
     },
     "metadata": {
      "needs_background": "light"
     },
     "output_type": "display_data"
    }
   ],
   "source": [
    "data.hist('age', bins=35, alpha=0.8);\n",
    "plt.title('Distribution of Age');\n",
    "plt.xlabel('Age');"
   ]
  },
  {
   "cell_type": "code",
   "execution_count": 91,
   "id": "425ebfd7",
   "metadata": {},
   "outputs": [
    {
     "data": {
      "text/html": [
       "<div>\n",
       "<style scoped>\n",
       "    .dataframe tbody tr th:only-of-type {\n",
       "        vertical-align: middle;\n",
       "    }\n",
       "\n",
       "    .dataframe tbody tr th {\n",
       "        vertical-align: top;\n",
       "    }\n",
       "\n",
       "    .dataframe thead th {\n",
       "        text-align: right;\n",
       "    }\n",
       "</style>\n",
       "<table border=\"1\" class=\"dataframe\">\n",
       "  <thead>\n",
       "    <tr style=\"text-align: right;\">\n",
       "      <th></th>\n",
       "      <th>age</th>\n",
       "      <th>job</th>\n",
       "      <th>marital</th>\n",
       "      <th>education</th>\n",
       "      <th>Age_Group</th>\n",
       "      <th>default</th>\n",
       "      <th>balance_seg</th>\n",
       "      <th>balance</th>\n",
       "      <th>housing</th>\n",
       "      <th>loan</th>\n",
       "      <th>...</th>\n",
       "      <th>job_unemployed</th>\n",
       "      <th>job_entrepreneur</th>\n",
       "      <th>job_housemaid</th>\n",
       "      <th>job_unknown</th>\n",
       "      <th>month_may</th>\n",
       "      <th>month_aug</th>\n",
       "      <th>month_jul</th>\n",
       "      <th>month_jun</th>\n",
       "      <th>month_nov</th>\n",
       "      <th>month_apr</th>\n",
       "    </tr>\n",
       "  </thead>\n",
       "  <tbody>\n",
       "    <tr>\n",
       "      <th>9964</th>\n",
       "      <td>30</td>\n",
       "      <td>services</td>\n",
       "      <td>single</td>\n",
       "      <td>secondary</td>\n",
       "      <td>18-29</td>\n",
       "      <td>0</td>\n",
       "      <td>0-3000</td>\n",
       "      <td>117</td>\n",
       "      <td>0</td>\n",
       "      <td>0</td>\n",
       "      <td>...</td>\n",
       "      <td>0</td>\n",
       "      <td>0</td>\n",
       "      <td>0</td>\n",
       "      <td>0</td>\n",
       "      <td>0</td>\n",
       "      <td>0</td>\n",
       "      <td>0</td>\n",
       "      <td>0</td>\n",
       "      <td>0</td>\n",
       "      <td>0</td>\n",
       "    </tr>\n",
       "    <tr>\n",
       "      <th>5236</th>\n",
       "      <td>72</td>\n",
       "      <td>retired</td>\n",
       "      <td>married</td>\n",
       "      <td>secondary</td>\n",
       "      <td>70-89</td>\n",
       "      <td>0</td>\n",
       "      <td>3000-6000</td>\n",
       "      <td>5715</td>\n",
       "      <td>0</td>\n",
       "      <td>0</td>\n",
       "      <td>...</td>\n",
       "      <td>0</td>\n",
       "      <td>0</td>\n",
       "      <td>0</td>\n",
       "      <td>0</td>\n",
       "      <td>1</td>\n",
       "      <td>0</td>\n",
       "      <td>0</td>\n",
       "      <td>0</td>\n",
       "      <td>0</td>\n",
       "      <td>0</td>\n",
       "    </tr>\n",
       "    <tr>\n",
       "      <th>7055</th>\n",
       "      <td>29</td>\n",
       "      <td>self-employed</td>\n",
       "      <td>single</td>\n",
       "      <td>tertiary</td>\n",
       "      <td>18-29</td>\n",
       "      <td>0</td>\n",
       "      <td>0-3000</td>\n",
       "      <td>16</td>\n",
       "      <td>1</td>\n",
       "      <td>0</td>\n",
       "      <td>...</td>\n",
       "      <td>0</td>\n",
       "      <td>0</td>\n",
       "      <td>0</td>\n",
       "      <td>0</td>\n",
       "      <td>1</td>\n",
       "      <td>0</td>\n",
       "      <td>0</td>\n",
       "      <td>0</td>\n",
       "      <td>0</td>\n",
       "      <td>0</td>\n",
       "    </tr>\n",
       "    <tr>\n",
       "      <th>4958</th>\n",
       "      <td>63</td>\n",
       "      <td>management</td>\n",
       "      <td>married</td>\n",
       "      <td>tertiary</td>\n",
       "      <td>50-69</td>\n",
       "      <td>0</td>\n",
       "      <td>3000-6000</td>\n",
       "      <td>5112</td>\n",
       "      <td>0</td>\n",
       "      <td>0</td>\n",
       "      <td>...</td>\n",
       "      <td>0</td>\n",
       "      <td>0</td>\n",
       "      <td>0</td>\n",
       "      <td>0</td>\n",
       "      <td>0</td>\n",
       "      <td>0</td>\n",
       "      <td>0</td>\n",
       "      <td>0</td>\n",
       "      <td>1</td>\n",
       "      <td>0</td>\n",
       "    </tr>\n",
       "    <tr>\n",
       "      <th>7210</th>\n",
       "      <td>35</td>\n",
       "      <td>services</td>\n",
       "      <td>married</td>\n",
       "      <td>secondary</td>\n",
       "      <td>30-49</td>\n",
       "      <td>0</td>\n",
       "      <td>0-3000</td>\n",
       "      <td>377</td>\n",
       "      <td>0</td>\n",
       "      <td>1</td>\n",
       "      <td>...</td>\n",
       "      <td>0</td>\n",
       "      <td>0</td>\n",
       "      <td>0</td>\n",
       "      <td>0</td>\n",
       "      <td>0</td>\n",
       "      <td>0</td>\n",
       "      <td>1</td>\n",
       "      <td>0</td>\n",
       "      <td>0</td>\n",
       "      <td>0</td>\n",
       "    </tr>\n",
       "    <tr>\n",
       "      <th>3210</th>\n",
       "      <td>29</td>\n",
       "      <td>technician</td>\n",
       "      <td>single</td>\n",
       "      <td>secondary</td>\n",
       "      <td>18-29</td>\n",
       "      <td>0</td>\n",
       "      <td>0-3000</td>\n",
       "      <td>113</td>\n",
       "      <td>0</td>\n",
       "      <td>0</td>\n",
       "      <td>...</td>\n",
       "      <td>0</td>\n",
       "      <td>0</td>\n",
       "      <td>0</td>\n",
       "      <td>0</td>\n",
       "      <td>0</td>\n",
       "      <td>0</td>\n",
       "      <td>0</td>\n",
       "      <td>0</td>\n",
       "      <td>0</td>\n",
       "      <td>0</td>\n",
       "    </tr>\n",
       "    <tr>\n",
       "      <th>7927</th>\n",
       "      <td>46</td>\n",
       "      <td>technician</td>\n",
       "      <td>married</td>\n",
       "      <td>tertiary</td>\n",
       "      <td>30-49</td>\n",
       "      <td>0</td>\n",
       "      <td>3000-6000</td>\n",
       "      <td>4176</td>\n",
       "      <td>1</td>\n",
       "      <td>0</td>\n",
       "      <td>...</td>\n",
       "      <td>0</td>\n",
       "      <td>0</td>\n",
       "      <td>0</td>\n",
       "      <td>0</td>\n",
       "      <td>0</td>\n",
       "      <td>0</td>\n",
       "      <td>0</td>\n",
       "      <td>1</td>\n",
       "      <td>0</td>\n",
       "      <td>0</td>\n",
       "    </tr>\n",
       "    <tr>\n",
       "      <th>2821</th>\n",
       "      <td>35</td>\n",
       "      <td>technician</td>\n",
       "      <td>single</td>\n",
       "      <td>secondary</td>\n",
       "      <td>30-49</td>\n",
       "      <td>0</td>\n",
       "      <td>0-3000</td>\n",
       "      <td>183</td>\n",
       "      <td>0</td>\n",
       "      <td>0</td>\n",
       "      <td>...</td>\n",
       "      <td>0</td>\n",
       "      <td>0</td>\n",
       "      <td>0</td>\n",
       "      <td>0</td>\n",
       "      <td>0</td>\n",
       "      <td>0</td>\n",
       "      <td>0</td>\n",
       "      <td>0</td>\n",
       "      <td>0</td>\n",
       "      <td>0</td>\n",
       "    </tr>\n",
       "    <tr>\n",
       "      <th>8556</th>\n",
       "      <td>45</td>\n",
       "      <td>technician</td>\n",
       "      <td>divorced</td>\n",
       "      <td>unknown</td>\n",
       "      <td>30-49</td>\n",
       "      <td>1</td>\n",
       "      <td>-3000 - 0</td>\n",
       "      <td>-25</td>\n",
       "      <td>0</td>\n",
       "      <td>1</td>\n",
       "      <td>...</td>\n",
       "      <td>0</td>\n",
       "      <td>0</td>\n",
       "      <td>0</td>\n",
       "      <td>0</td>\n",
       "      <td>0</td>\n",
       "      <td>0</td>\n",
       "      <td>1</td>\n",
       "      <td>0</td>\n",
       "      <td>0</td>\n",
       "      <td>0</td>\n",
       "    </tr>\n",
       "    <tr>\n",
       "      <th>3178</th>\n",
       "      <td>39</td>\n",
       "      <td>blue-collar</td>\n",
       "      <td>single</td>\n",
       "      <td>tertiary</td>\n",
       "      <td>30-49</td>\n",
       "      <td>0</td>\n",
       "      <td>0-3000</td>\n",
       "      <td>172</td>\n",
       "      <td>1</td>\n",
       "      <td>0</td>\n",
       "      <td>...</td>\n",
       "      <td>0</td>\n",
       "      <td>0</td>\n",
       "      <td>0</td>\n",
       "      <td>0</td>\n",
       "      <td>0</td>\n",
       "      <td>0</td>\n",
       "      <td>0</td>\n",
       "      <td>0</td>\n",
       "      <td>0</td>\n",
       "      <td>0</td>\n",
       "    </tr>\n",
       "    <tr>\n",
       "      <th>715</th>\n",
       "      <td>33</td>\n",
       "      <td>technician</td>\n",
       "      <td>divorced</td>\n",
       "      <td>secondary</td>\n",
       "      <td>30-49</td>\n",
       "      <td>0</td>\n",
       "      <td>0-3000</td>\n",
       "      <td>801</td>\n",
       "      <td>0</td>\n",
       "      <td>0</td>\n",
       "      <td>...</td>\n",
       "      <td>0</td>\n",
       "      <td>0</td>\n",
       "      <td>0</td>\n",
       "      <td>0</td>\n",
       "      <td>0</td>\n",
       "      <td>1</td>\n",
       "      <td>0</td>\n",
       "      <td>0</td>\n",
       "      <td>0</td>\n",
       "      <td>0</td>\n",
       "    </tr>\n",
       "    <tr>\n",
       "      <th>8122</th>\n",
       "      <td>42</td>\n",
       "      <td>management</td>\n",
       "      <td>married</td>\n",
       "      <td>secondary</td>\n",
       "      <td>30-49</td>\n",
       "      <td>0</td>\n",
       "      <td>0-3000</td>\n",
       "      <td>1018</td>\n",
       "      <td>0</td>\n",
       "      <td>0</td>\n",
       "      <td>...</td>\n",
       "      <td>0</td>\n",
       "      <td>0</td>\n",
       "      <td>0</td>\n",
       "      <td>0</td>\n",
       "      <td>0</td>\n",
       "      <td>0</td>\n",
       "      <td>1</td>\n",
       "      <td>0</td>\n",
       "      <td>0</td>\n",
       "      <td>0</td>\n",
       "    </tr>\n",
       "    <tr>\n",
       "      <th>10085</th>\n",
       "      <td>44</td>\n",
       "      <td>blue-collar</td>\n",
       "      <td>married</td>\n",
       "      <td>secondary</td>\n",
       "      <td>30-49</td>\n",
       "      <td>0</td>\n",
       "      <td>-3000 - 0</td>\n",
       "      <td>0</td>\n",
       "      <td>1</td>\n",
       "      <td>0</td>\n",
       "      <td>...</td>\n",
       "      <td>0</td>\n",
       "      <td>0</td>\n",
       "      <td>0</td>\n",
       "      <td>0</td>\n",
       "      <td>0</td>\n",
       "      <td>0</td>\n",
       "      <td>1</td>\n",
       "      <td>0</td>\n",
       "      <td>0</td>\n",
       "      <td>0</td>\n",
       "    </tr>\n",
       "    <tr>\n",
       "      <th>9977</th>\n",
       "      <td>41</td>\n",
       "      <td>management</td>\n",
       "      <td>married</td>\n",
       "      <td>tertiary</td>\n",
       "      <td>30-49</td>\n",
       "      <td>0</td>\n",
       "      <td>0-3000</td>\n",
       "      <td>144</td>\n",
       "      <td>0</td>\n",
       "      <td>0</td>\n",
       "      <td>...</td>\n",
       "      <td>0</td>\n",
       "      <td>0</td>\n",
       "      <td>0</td>\n",
       "      <td>0</td>\n",
       "      <td>0</td>\n",
       "      <td>0</td>\n",
       "      <td>0</td>\n",
       "      <td>0</td>\n",
       "      <td>0</td>\n",
       "      <td>0</td>\n",
       "    </tr>\n",
       "    <tr>\n",
       "      <th>7504</th>\n",
       "      <td>33</td>\n",
       "      <td>admin.</td>\n",
       "      <td>married</td>\n",
       "      <td>secondary</td>\n",
       "      <td>30-49</td>\n",
       "      <td>0</td>\n",
       "      <td>0-3000</td>\n",
       "      <td>1077</td>\n",
       "      <td>1</td>\n",
       "      <td>0</td>\n",
       "      <td>...</td>\n",
       "      <td>0</td>\n",
       "      <td>0</td>\n",
       "      <td>0</td>\n",
       "      <td>0</td>\n",
       "      <td>1</td>\n",
       "      <td>0</td>\n",
       "      <td>0</td>\n",
       "      <td>0</td>\n",
       "      <td>0</td>\n",
       "      <td>0</td>\n",
       "    </tr>\n",
       "    <tr>\n",
       "      <th>10331</th>\n",
       "      <td>51</td>\n",
       "      <td>management</td>\n",
       "      <td>married</td>\n",
       "      <td>tertiary</td>\n",
       "      <td>50-69</td>\n",
       "      <td>0</td>\n",
       "      <td>0-3000</td>\n",
       "      <td>385</td>\n",
       "      <td>0</td>\n",
       "      <td>0</td>\n",
       "      <td>...</td>\n",
       "      <td>0</td>\n",
       "      <td>0</td>\n",
       "      <td>0</td>\n",
       "      <td>0</td>\n",
       "      <td>0</td>\n",
       "      <td>1</td>\n",
       "      <td>0</td>\n",
       "      <td>0</td>\n",
       "      <td>0</td>\n",
       "      <td>0</td>\n",
       "    </tr>\n",
       "    <tr>\n",
       "      <th>3959</th>\n",
       "      <td>52</td>\n",
       "      <td>unemployed</td>\n",
       "      <td>married</td>\n",
       "      <td>secondary</td>\n",
       "      <td>50-69</td>\n",
       "      <td>0</td>\n",
       "      <td>0-3000</td>\n",
       "      <td>1416</td>\n",
       "      <td>0</td>\n",
       "      <td>0</td>\n",
       "      <td>...</td>\n",
       "      <td>1</td>\n",
       "      <td>0</td>\n",
       "      <td>0</td>\n",
       "      <td>0</td>\n",
       "      <td>0</td>\n",
       "      <td>0</td>\n",
       "      <td>0</td>\n",
       "      <td>0</td>\n",
       "      <td>0</td>\n",
       "      <td>0</td>\n",
       "    </tr>\n",
       "    <tr>\n",
       "      <th>85</th>\n",
       "      <td>27</td>\n",
       "      <td>technician</td>\n",
       "      <td>single</td>\n",
       "      <td>tertiary</td>\n",
       "      <td>18-29</td>\n",
       "      <td>0</td>\n",
       "      <td>3000-6000</td>\n",
       "      <td>3706</td>\n",
       "      <td>1</td>\n",
       "      <td>0</td>\n",
       "      <td>...</td>\n",
       "      <td>0</td>\n",
       "      <td>0</td>\n",
       "      <td>0</td>\n",
       "      <td>0</td>\n",
       "      <td>1</td>\n",
       "      <td>0</td>\n",
       "      <td>0</td>\n",
       "      <td>0</td>\n",
       "      <td>0</td>\n",
       "      <td>0</td>\n",
       "    </tr>\n",
       "    <tr>\n",
       "      <th>4181</th>\n",
       "      <td>27</td>\n",
       "      <td>unknown</td>\n",
       "      <td>single</td>\n",
       "      <td>secondary</td>\n",
       "      <td>18-29</td>\n",
       "      <td>0</td>\n",
       "      <td>0-3000</td>\n",
       "      <td>1187</td>\n",
       "      <td>0</td>\n",
       "      <td>0</td>\n",
       "      <td>...</td>\n",
       "      <td>0</td>\n",
       "      <td>0</td>\n",
       "      <td>0</td>\n",
       "      <td>1</td>\n",
       "      <td>0</td>\n",
       "      <td>0</td>\n",
       "      <td>0</td>\n",
       "      <td>0</td>\n",
       "      <td>0</td>\n",
       "      <td>0</td>\n",
       "    </tr>\n",
       "    <tr>\n",
       "      <th>4484</th>\n",
       "      <td>29</td>\n",
       "      <td>services</td>\n",
       "      <td>single</td>\n",
       "      <td>tertiary</td>\n",
       "      <td>18-29</td>\n",
       "      <td>0</td>\n",
       "      <td>0-3000</td>\n",
       "      <td>1788</td>\n",
       "      <td>0</td>\n",
       "      <td>0</td>\n",
       "      <td>...</td>\n",
       "      <td>0</td>\n",
       "      <td>0</td>\n",
       "      <td>0</td>\n",
       "      <td>0</td>\n",
       "      <td>0</td>\n",
       "      <td>0</td>\n",
       "      <td>0</td>\n",
       "      <td>0</td>\n",
       "      <td>0</td>\n",
       "      <td>0</td>\n",
       "    </tr>\n",
       "  </tbody>\n",
       "</table>\n",
       "<p>20 rows × 37 columns</p>\n",
       "</div>"
      ],
      "text/plain": [
       "       age            job   marital  education Age_Group  default balance_seg  \\\n",
       "9964    30       services    single  secondary     18-29        0      0-3000   \n",
       "5236    72        retired   married  secondary     70-89        0   3000-6000   \n",
       "7055    29  self-employed    single   tertiary     18-29        0      0-3000   \n",
       "4958    63     management   married   tertiary     50-69        0   3000-6000   \n",
       "7210    35       services   married  secondary     30-49        0      0-3000   \n",
       "3210    29     technician    single  secondary     18-29        0      0-3000   \n",
       "7927    46     technician   married   tertiary     30-49        0   3000-6000   \n",
       "2821    35     technician    single  secondary     30-49        0      0-3000   \n",
       "8556    45     technician  divorced    unknown     30-49        1   -3000 - 0   \n",
       "3178    39    blue-collar    single   tertiary     30-49        0      0-3000   \n",
       "715     33     technician  divorced  secondary     30-49        0      0-3000   \n",
       "8122    42     management   married  secondary     30-49        0      0-3000   \n",
       "10085   44    blue-collar   married  secondary     30-49        0   -3000 - 0   \n",
       "9977    41     management   married   tertiary     30-49        0      0-3000   \n",
       "7504    33         admin.   married  secondary     30-49        0      0-3000   \n",
       "10331   51     management   married   tertiary     50-69        0      0-3000   \n",
       "3959    52     unemployed   married  secondary     50-69        0      0-3000   \n",
       "85      27     technician    single   tertiary     18-29        0   3000-6000   \n",
       "4181    27        unknown    single  secondary     18-29        0      0-3000   \n",
       "4484    29       services    single   tertiary     18-29        0      0-3000   \n",
       "\n",
       "       balance  housing  loan  ... job_unemployed  job_entrepreneur  \\\n",
       "9964       117        0     0  ...              0                 0   \n",
       "5236      5715        0     0  ...              0                 0   \n",
       "7055        16        1     0  ...              0                 0   \n",
       "4958      5112        0     0  ...              0                 0   \n",
       "7210       377        0     1  ...              0                 0   \n",
       "3210       113        0     0  ...              0                 0   \n",
       "7927      4176        1     0  ...              0                 0   \n",
       "2821       183        0     0  ...              0                 0   \n",
       "8556       -25        0     1  ...              0                 0   \n",
       "3178       172        1     0  ...              0                 0   \n",
       "715        801        0     0  ...              0                 0   \n",
       "8122      1018        0     0  ...              0                 0   \n",
       "10085        0        1     0  ...              0                 0   \n",
       "9977       144        0     0  ...              0                 0   \n",
       "7504      1077        1     0  ...              0                 0   \n",
       "10331      385        0     0  ...              0                 0   \n",
       "3959      1416        0     0  ...              1                 0   \n",
       "85        3706        1     0  ...              0                 0   \n",
       "4181      1187        0     0  ...              0                 0   \n",
       "4484      1788        0     0  ...              0                 0   \n",
       "\n",
       "      job_housemaid  job_unknown  month_may  month_aug  month_jul month_jun  \\\n",
       "9964              0            0          0          0          0         0   \n",
       "5236              0            0          1          0          0         0   \n",
       "7055              0            0          1          0          0         0   \n",
       "4958              0            0          0          0          0         0   \n",
       "7210              0            0          0          0          1         0   \n",
       "3210              0            0          0          0          0         0   \n",
       "7927              0            0          0          0          0         1   \n",
       "2821              0            0          0          0          0         0   \n",
       "8556              0            0          0          0          1         0   \n",
       "3178              0            0          0          0          0         0   \n",
       "715               0            0          0          1          0         0   \n",
       "8122              0            0          0          0          1         0   \n",
       "10085             0            0          0          0          1         0   \n",
       "9977              0            0          0          0          0         0   \n",
       "7504              0            0          1          0          0         0   \n",
       "10331             0            0          0          1          0         0   \n",
       "3959              0            0          0          0          0         0   \n",
       "85                0            0          1          0          0         0   \n",
       "4181              0            1          0          0          0         0   \n",
       "4484              0            0          0          0          0         0   \n",
       "\n",
       "       month_nov  month_apr  \n",
       "9964           0          0  \n",
       "5236           0          0  \n",
       "7055           0          0  \n",
       "4958           1          0  \n",
       "7210           0          0  \n",
       "3210           0          0  \n",
       "7927           0          0  \n",
       "2821           0          0  \n",
       "8556           0          0  \n",
       "3178           0          0  \n",
       "715            0          0  \n",
       "8122           0          0  \n",
       "10085          0          0  \n",
       "9977           0          0  \n",
       "7504           0          0  \n",
       "10331          0          0  \n",
       "3959           0          0  \n",
       "85             0          0  \n",
       "4181           0          0  \n",
       "4484           0          0  \n",
       "\n",
       "[20 rows x 37 columns]"
      ]
     },
     "execution_count": 91,
     "metadata": {},
     "output_type": "execute_result"
    }
   ],
   "source": [
    "age_group = pd.cut(data.age, bins = [18,30,50,70,90,120], labels= ['18-29','30-49','50-69','70-89','90+'])\n",
    "data.insert(4, 'Age_Group', age_group)\n",
    "data.sample(20)\n",
    "#müşterileri yaşlarına göre kategorize ettim"
   ]
  },
  {
   "cell_type": "code",
   "execution_count": 29,
   "id": "b179a968",
   "metadata": {},
   "outputs": [
    {
     "data": {
      "image/png": "[encoded data removed]",
      "text/plain": [
       "<Figure size 432x288 with 1 Axes>"
      ]
     },
     "metadata": {
      "needs_background": "light"
     },
     "output_type": "display_data"
    }
   ],
   "source": [
    "data.hist('balance');"
   ]
  },
  {
   "cell_type": "markdown",
   "id": "f0a3e92f",
   "metadata": {},
   "source": [
    "BURADAN İTİBAREN \"HOUSİNG\", \"DEPOSİT\", \"LOAN\", HİZMETLERİNİN MESLEKLER ÜZERİNE DAĞILIMINI İNCELEDİM"
   ]
  },
  {
   "cell_type": "code",
   "execution_count": 62,
   "id": "e1e5cd36",
   "metadata": {},
   "outputs": [
    {
     "data": {
      "image/png": "[encoded data removed]",
      "text/plain": [
       "<Figure size 360x360 with 1 Axes>"
      ]
     },
     "metadata": {
      "needs_background": "light"
     },
     "output_type": "display_data"
    },
    {
     "data": {
      "image/png": "[encoded data removed]",
      "text/plain": [
       "<Figure size 360x360 with 1 Axes>"
      ]
     },
     "metadata": {
      "needs_background": "light"
     },
     "output_type": "display_data"
    },
    {
     "data": {
      "image/png": "[encoded data removed]",
      "text/plain": [
       "<Figure size 360x360 with 1 Axes>"
      ]
     },
     "metadata": {
      "needs_background": "light"
     },
     "output_type": "display_data"
    }
   ],
   "source": [
    "plt.figure(figsize=[5,5])\n",
    "cx = sns.countplot(x=\"job_admin.\", hue=\"housing\", data=data)\n",
    "plt.show()\n",
    "plt.figure(figsize=[5,5])\n",
    "cx = sns.countplot(x=\"job_admin.\", hue=\"loan\", data=data)\n",
    "plt.show()\n",
    "plt.figure(figsize=[5,5])\n",
    "cx = sns.countplot(x=\"job_admin.\", hue=\"deposit\", data=data)\n",
    "plt.show()"
   ]
  },
  {
   "cell_type": "code",
   "execution_count": 63,
   "id": "df5f4541",
   "metadata": {},
   "outputs": [
    {
     "data": {
      "image/png": "[encoded data removed]",
      "text/plain": [
       "<Figure size 360x360 with 1 Axes>"
      ]
     },
     "metadata": {
      "needs_background": "light"
     },
     "output_type": "display_data"
    },
    {
     "data": {
      "image/png": "[encoded data removed]",
      "text/plain": [
       "<Figure size 360x360 with 1 Axes>"
      ]
     },
     "metadata": {
      "needs_background": "light"
     },
     "output_type": "display_data"
    },
    {
     "data": {
      "image/png": "[encoded data removed]",
      "text/plain": [
       "<Figure size 360x360 with 1 Axes>"
      ]
     },
     "metadata": {
      "needs_background": "light"
     },
     "output_type": "display_data"
    }
   ],
   "source": [
    "plt.figure(figsize=[5,5])\n",
    "cx = sns.countplot(x=\"job_technician\", hue=\"housing\", data=data)\n",
    "plt.show()\n",
    "plt.figure(figsize=[5,5])\n",
    "cx = sns.countplot(x=\"job_technician\", hue=\"loan\", data=data)\n",
    "plt.show()\n",
    "plt.figure(figsize=[5,5])\n",
    "cx = sns.countplot(x=\"job_technician\", hue=\"deposit\", data=data)\n",
    "plt.show()"
   ]
  },
  {
   "cell_type": "code",
   "execution_count": 64,
   "id": "4ef834dd",
   "metadata": {},
   "outputs": [
    {
     "data": {
      "image/png": "[encoded data removed]",
      "text/plain": [
       "<Figure size 360x360 with 1 Axes>"
      ]
     },
     "metadata": {
      "needs_background": "light"
     },
     "output_type": "display_data"
    },
    {
     "data": {
      "image/png": "[encoded data removed]",
      "text/plain": [
       "<Figure size 360x360 with 1 Axes>"
      ]
     },
     "metadata": {
      "needs_background": "light"
     },
     "output_type": "display_data"
    },
    {
     "data": {
      "image/png": "[encoded data removed]",
      "text/plain": [
       "<Figure size 360x360 with 1 Axes>"
      ]
     },
     "metadata": {
      "needs_background": "light"
     },
     "output_type": "display_data"
    }
   ],
   "source": [
    "plt.figure(figsize=[5,5])\n",
    "cx = sns.countplot(x=\"job_services\", hue=\"housing\", data=data)\n",
    "plt.show()\n",
    "plt.figure(figsize=[5,5])\n",
    "cx = sns.countplot(x=\"job_services\", hue=\"loan\", data=data)\n",
    "plt.show()\n",
    "plt.figure(figsize=[5,5])\n",
    "cx = sns.countplot(x=\"job_services\", hue=\"deposit\", data=data)\n",
    "plt.show()"
   ]
  },
  {
   "cell_type": "code",
   "execution_count": 65,
   "id": "b2602620",
   "metadata": {},
   "outputs": [
    {
     "data": {
      "image/png": "[encoded data removed]",
      "text/plain": [
       "<Figure size 360x360 with 1 Axes>"
      ]
     },
     "metadata": {
      "needs_background": "light"
     },
     "output_type": "display_data"
    },
    {
     "data": {
      "image/png": "[encoded data removed]",
      "text/plain": [
       "<Figure size 360x360 with 1 Axes>"
      ]
     },
     "metadata": {
      "needs_background": "light"
     },
     "output_type": "display_data"
    },
    {
     "data": {
      "image/png": "[encoded data removed]",
      "text/plain": [
       "<Figure size 360x360 with 1 Axes>"
      ]
     },
     "metadata": {
      "needs_background": "light"
     },
     "output_type": "display_data"
    }
   ],
   "source": [
    "plt.figure(figsize=[5,5])\n",
    "cx = sns.countplot(x=\"job_management\", hue=\"housing\", data=data)\n",
    "plt.show()\n",
    "plt.figure(figsize=[5,5])\n",
    "cx = sns.countplot(x=\"job_management\", hue=\"loan\", data=data)\n",
    "plt.show()\n",
    "plt.figure(figsize=[5,5])\n",
    "cx = sns.countplot(x=\"job_management\", hue=\"deposit\", data=data)\n",
    "plt.show()"
   ]
  },
  {
   "cell_type": "code",
   "execution_count": 66,
   "id": "65e4db11",
   "metadata": {},
   "outputs": [
    {
     "data": {
      "image/png": "[encoded data removed]",
      "text/plain": [
       "<Figure size 360x360 with 1 Axes>"
      ]
     },
     "metadata": {
      "needs_background": "light"
     },
     "output_type": "display_data"
    },
    {
     "data": {
      "image/png": "[encoded data removed]",
      "text/plain": [
       "<Figure size 360x360 with 1 Axes>"
      ]
     },
     "metadata": {
      "needs_background": "light"
     },
     "output_type": "display_data"
    },
    {
     "data": {
      "image/png": "[encoded data removed]",
      "text/plain": [
       "<Figure size 360x360 with 1 Axes>"
      ]
     },
     "metadata": {
      "needs_background": "light"
     },
     "output_type": "display_data"
    }
   ],
   "source": [
    "plt.figure(figsize=[5,5])\n",
    "cx = sns.countplot(x=\"job_retired\", hue=\"housing\", data=data)\n",
    "plt.show()\n",
    "plt.figure(figsize=[5,5])\n",
    "cx = sns.countplot(x=\"job_retired\", hue=\"loan\", data=data)\n",
    "plt.show()\n",
    "plt.figure(figsize=[5,5])\n",
    "cx = sns.countplot(x=\"job_retired\", hue=\"deposit\", data=data)\n",
    "plt.show()"
   ]
  },
  {
   "cell_type": "code",
   "execution_count": 67,
   "id": "b08d379a",
   "metadata": {},
   "outputs": [
    {
     "data": {
      "image/png": "[encoded data removed]",
      "text/plain": [
       "<Figure size 360x360 with 1 Axes>"
      ]
     },
     "metadata": {
      "needs_background": "light"
     },
     "output_type": "display_data"
    },
    {
     "data": {
      "image/png": "[encoded data removed]",
      "text/plain": [
       "<Figure size 360x360 with 1 Axes>"
      ]
     },
     "metadata": {
      "needs_background": "light"
     },
     "output_type": "display_data"
    },
    {
     "data": {
      "image/png": "[encoded data removed]",
      "text/plain": [
       "<Figure size 360x360 with 1 Axes>"
      ]
     },
     "metadata": {
      "needs_background": "light"
     },
     "output_type": "display_data"
    }
   ],
   "source": [
    "plt.figure(figsize=[5,5])\n",
    "cx = sns.countplot(x=\"job_blue-collar\", hue=\"housing\", data=data)\n",
    "plt.show()\n",
    "plt.figure(figsize=[5,5])\n",
    "cx = sns.countplot(x=\"job_blue-collar\", hue=\"loan\", data=data)\n",
    "plt.show()\n",
    "plt.figure(figsize=[5,5])\n",
    "cx = sns.countplot(x=\"job_blue-collar\", hue=\"deposit\", data=data)\n",
    "plt.show()"
   ]
  },
  {
   "cell_type": "code",
   "execution_count": 68,
   "id": "1944ca01",
   "metadata": {},
   "outputs": [
    {
     "data": {
      "image/png": "[encoded data removed]",
      "text/plain": [
       "<Figure size 360x360 with 1 Axes>"
      ]
     },
     "metadata": {
      "needs_background": "light"
     },
     "output_type": "display_data"
    },
    {
     "data": {
      "image/png": "[encoded data removed]",
      "text/plain": [
       "<Figure size 360x360 with 1 Axes>"
      ]
     },
     "metadata": {
      "needs_background": "light"
     },
     "output_type": "display_data"
    },
    {
     "data": {
      "image/png": "[encoded data removed]",
      "text/plain": [
       "<Figure size 360x360 with 1 Axes>"
      ]
     },
     "metadata": {
      "needs_background": "light"
     },
     "output_type": "display_data"
    }
   ],
   "source": [
    "plt.figure(figsize=[5,5])\n",
    "cx = sns.countplot(x=\"job_unemployed\", hue=\"housing\", data=data)\n",
    "plt.show()\n",
    "plt.figure(figsize=[5,5])\n",
    "cx = sns.countplot(x=\"job_unemployed\", hue=\"loan\", data=data)\n",
    "plt.show()\n",
    "plt.figure(figsize=[5,5])\n",
    "cx = sns.countplot(x=\"job_unemployed\", hue=\"deposit\", data=data)\n",
    "plt.show()"
   ]
  },
  {
   "cell_type": "code",
   "execution_count": 69,
   "id": "0cea1cf6",
   "metadata": {},
   "outputs": [
    {
     "data": {
      "image/png": "[encoded data removed]",
      "text/plain": [
       "<Figure size 360x360 with 1 Axes>"
      ]
     },
     "metadata": {
      "needs_background": "light"
     },
     "output_type": "display_data"
    },
    {
     "data": {
      "image/png": "[encoded data removed]",
      "text/plain": [
       "<Figure size 360x360 with 1 Axes>"
      ]
     },
     "metadata": {
      "needs_background": "light"
     },
     "output_type": "display_data"
    },
    {
     "data": {
      "image/png": "[encoded data removed]",
      "text/plain": [
       "<Figure size 360x360 with 1 Axes>"
      ]
     },
     "metadata": {
      "needs_background": "light"
     },
     "output_type": "display_data"
    }
   ],
   "source": [
    "plt.figure(figsize=[5,5])\n",
    "cx = sns.countplot(x=\"job_entrepreneur\", hue=\"housing\", data=data)\n",
    "plt.show()\n",
    "plt.figure(figsize=[5,5])\n",
    "cx = sns.countplot(x=\"job_entrepreneur\", hue=\"loan\", data=data)\n",
    "plt.show()\n",
    "plt.figure(figsize=[5,5])\n",
    "cx = sns.countplot(x=\"job_entrepreneur\", hue=\"deposit\", data=data)\n",
    "plt.show()"
   ]
  },
  {
   "cell_type": "code",
   "execution_count": 70,
   "id": "012bb56c",
   "metadata": {},
   "outputs": [
    {
     "data": {
      "image/png": "[encoded data removed]",
      "text/plain": [
       "<Figure size 360x360 with 1 Axes>"
      ]
     },
     "metadata": {
      "needs_background": "light"
     },
     "output_type": "display_data"
    },
    {
     "data": {
      "image/png": "[encoded data removed]",
      "text/plain": [
       "<Figure size 360x360 with 1 Axes>"
      ]
     },
     "metadata": {
      "needs_background": "light"
     },
     "output_type": "display_data"
    },
    {
     "data": {
      "image/png": "[encoded data removed]",
      "text/plain": [
       "<Figure size 360x360 with 1 Axes>"
      ]
     },
     "metadata": {
      "needs_background": "light"
     },
     "output_type": "display_data"
    }
   ],
   "source": [
    "plt.figure(figsize=[5,5])\n",
    "cx = sns.countplot(x=\"job_housemaid\", hue=\"housing\", data=data)\n",
    "plt.show()\n",
    "plt.figure(figsize=[5,5])\n",
    "cx = sns.countplot(x=\"job_housemaid\", hue=\"loan\", data=data)\n",
    "plt.show()\n",
    "plt.figure(figsize=[5,5])\n",
    "cx = sns.countplot(x=\"job_housemaid\", hue=\"deposit\", data=data)\n",
    "plt.show()"
   ]
  },
  {
   "cell_type": "code",
   "execution_count": 71,
   "id": "f2b261e3",
   "metadata": {},
   "outputs": [
    {
     "data": {
      "image/png": "[encoded data removed]",
      "text/plain": [
       "<Figure size 360x360 with 1 Axes>"
      ]
     },
     "metadata": {
      "needs_background": "light"
     },
     "output_type": "display_data"
    },
    {
     "data": {
      "image/png": "[encoded data removed]",
      "text/plain": [
       "<Figure size 360x360 with 1 Axes>"
      ]
     },
     "metadata": {
      "needs_background": "light"
     },
     "output_type": "display_data"
    },
    {
     "data": {
      "image/png": "[encoded data removed]",
      "text/plain": [
       "<Figure size 360x360 with 1 Axes>"
      ]
     },
     "metadata": {
      "needs_background": "light"
     },
     "output_type": "display_data"
    }
   ],
   "source": [
    "plt.figure(figsize=[5,5])\n",
    "cx = sns.countplot(x=\"job_unknown\", hue=\"housing\", data=data)\n",
    "plt.show()\n",
    "plt.figure(figsize=[5,5])\n",
    "cx = sns.countplot(x=\"job_unknown\", hue=\"loan\", data=data)\n",
    "plt.show()\n",
    "plt.figure(figsize=[5,5])\n",
    "cx = sns.countplot(x=\"job_unknown\", hue=\"deposit\", data=data)\n",
    "plt.show()"
   ]
  },
  {
   "cell_type": "code",
   "execution_count": 72,
   "id": "2d0d1cad",
   "metadata": {},
   "outputs": [
    {
     "data": {
      "image/png": "[encoded data removed]",
      "text/plain": [
       "<Figure size 360x360 with 1 Axes>"
      ]
     },
     "metadata": {
      "needs_background": "light"
     },
     "output_type": "display_data"
    },
    {
     "data": {
      "image/png": "[encoded data removed]",
      "text/plain": [
       "<Figure size 360x360 with 1 Axes>"
      ]
     },
     "metadata": {
      "needs_background": "light"
     },
     "output_type": "display_data"
    },
    {
     "data": {
      "image/png": "[encoded data removed]",
      "text/plain": [
       "<Figure size 360x360 with 1 Axes>"
      ]
     },
     "metadata": {
      "needs_background": "light"
     },
     "output_type": "display_data"
    }
   ],
   "source": [
    "plt.figure(figsize=[5,5])\n",
    "cx = sns.countplot(x=\"job_self-employed\", hue=\"housing\", data=data)\n",
    "plt.show()\n",
    "plt.figure(figsize=[5,5])\n",
    "cx = sns.countplot(x=\"job_self-employed\", hue=\"loan\", data=data)\n",
    "plt.show()\n",
    "plt.figure(figsize=[5,5])\n",
    "cx = sns.countplot(x=\"job_self-employed\", hue=\"deposit\", data=data)\n",
    "plt.show()"
   ]
  },
  {
   "cell_type": "code",
   "execution_count": 73,
   "id": "960a1106",
   "metadata": {},
   "outputs": [
    {
     "data": {
      "image/png": "[encoded data removed]",
      "text/plain": [
       "<Figure size 360x360 with 1 Axes>"
      ]
     },
     "metadata": {
      "needs_background": "light"
     },
     "output_type": "display_data"
    },
    {
     "data": {
      "image/png": "[encoded data removed]",
      "text/plain": [
       "<Figure size 360x360 with 1 Axes>"
      ]
     },
     "metadata": {
      "needs_background": "light"
     },
     "output_type": "display_data"
    },
    {
     "data": {
      "image/png": "[encoded data removed]",
      "text/plain": [
       "<Figure size 360x360 with 1 Axes>"
      ]
     },
     "metadata": {
      "needs_background": "light"
     },
     "output_type": "display_data"
    }
   ],
   "source": [
    "plt.figure(figsize=[5,5])\n",
    "cx = sns.countplot(x=\"job_student\", hue=\"housing\", data=data)\n",
    "plt.show()\n",
    "plt.figure(figsize=[5,5])\n",
    "cx = sns.countplot(x=\"job_student\", hue=\"loan\", data=data)\n",
    "plt.show()\n",
    "plt.figure(figsize=[5,5])\n",
    "cx = sns.countplot(x=\"job_student\", hue=\"deposit\", data=data)\n",
    "plt.show()"
   ]
  },
  {
   "cell_type": "markdown",
   "id": "03603777",
   "metadata": {},
   "source": [
    "burada müşterileri hesaplarındaki tutara göre kategorize ettim. ardından housing, deposit, loan hizmetlerinin \n",
    "balance, age, marital gibi müşteri özelliklerine göre dağılımına baktım"
   ]
  },
  {
   "cell_type": "code",
   "execution_count": 87,
   "id": "8e95e739",
   "metadata": {},
   "outputs": [
    {
     "data": {
      "text/html": [
       "<div>\n",
       "<style scoped>\n",
       "    .dataframe tbody tr th:only-of-type {\n",
       "        vertical-align: middle;\n",
       "    }\n",
       "\n",
       "    .dataframe tbody tr th {\n",
       "        vertical-align: top;\n",
       "    }\n",
       "\n",
       "    .dataframe thead th {\n",
       "        text-align: right;\n",
       "    }\n",
       "</style>\n",
       "<table border=\"1\" class=\"dataframe\">\n",
       "  <thead>\n",
       "    <tr style=\"text-align: right;\">\n",
       "      <th></th>\n",
       "      <th>age</th>\n",
       "      <th>job</th>\n",
       "      <th>marital</th>\n",
       "      <th>education</th>\n",
       "      <th>default</th>\n",
       "      <th>balance_seg</th>\n",
       "      <th>balance</th>\n",
       "      <th>housing</th>\n",
       "      <th>loan</th>\n",
       "      <th>contact</th>\n",
       "      <th>...</th>\n",
       "      <th>job_unemployed</th>\n",
       "      <th>job_entrepreneur</th>\n",
       "      <th>job_housemaid</th>\n",
       "      <th>job_unknown</th>\n",
       "      <th>month_may</th>\n",
       "      <th>month_aug</th>\n",
       "      <th>month_jul</th>\n",
       "      <th>month_jun</th>\n",
       "      <th>month_nov</th>\n",
       "      <th>month_apr</th>\n",
       "    </tr>\n",
       "  </thead>\n",
       "  <tbody>\n",
       "    <tr>\n",
       "      <th>9852</th>\n",
       "      <td>31</td>\n",
       "      <td>admin.</td>\n",
       "      <td>single</td>\n",
       "      <td>secondary</td>\n",
       "      <td>0</td>\n",
       "      <td>-3000 - 0</td>\n",
       "      <td>-422</td>\n",
       "      <td>1</td>\n",
       "      <td>0</td>\n",
       "      <td>cellular</td>\n",
       "      <td>...</td>\n",
       "      <td>0</td>\n",
       "      <td>0</td>\n",
       "      <td>0</td>\n",
       "      <td>0</td>\n",
       "      <td>1</td>\n",
       "      <td>0</td>\n",
       "      <td>0</td>\n",
       "      <td>0</td>\n",
       "      <td>0</td>\n",
       "      <td>0</td>\n",
       "    </tr>\n",
       "    <tr>\n",
       "      <th>10253</th>\n",
       "      <td>40</td>\n",
       "      <td>technician</td>\n",
       "      <td>married</td>\n",
       "      <td>secondary</td>\n",
       "      <td>0</td>\n",
       "      <td>6000-9000</td>\n",
       "      <td>7313</td>\n",
       "      <td>1</td>\n",
       "      <td>0</td>\n",
       "      <td>cellular</td>\n",
       "      <td>...</td>\n",
       "      <td>0</td>\n",
       "      <td>0</td>\n",
       "      <td>0</td>\n",
       "      <td>0</td>\n",
       "      <td>0</td>\n",
       "      <td>0</td>\n",
       "      <td>0</td>\n",
       "      <td>0</td>\n",
       "      <td>1</td>\n",
       "      <td>0</td>\n",
       "    </tr>\n",
       "    <tr>\n",
       "      <th>7942</th>\n",
       "      <td>30</td>\n",
       "      <td>blue-collar</td>\n",
       "      <td>married</td>\n",
       "      <td>secondary</td>\n",
       "      <td>0</td>\n",
       "      <td>0-3000</td>\n",
       "      <td>673</td>\n",
       "      <td>1</td>\n",
       "      <td>0</td>\n",
       "      <td>unknown</td>\n",
       "      <td>...</td>\n",
       "      <td>0</td>\n",
       "      <td>0</td>\n",
       "      <td>0</td>\n",
       "      <td>0</td>\n",
       "      <td>1</td>\n",
       "      <td>0</td>\n",
       "      <td>0</td>\n",
       "      <td>0</td>\n",
       "      <td>0</td>\n",
       "      <td>0</td>\n",
       "    </tr>\n",
       "    <tr>\n",
       "      <th>1554</th>\n",
       "      <td>59</td>\n",
       "      <td>management</td>\n",
       "      <td>married</td>\n",
       "      <td>tertiary</td>\n",
       "      <td>0</td>\n",
       "      <td>-3000 - 0</td>\n",
       "      <td>0</td>\n",
       "      <td>1</td>\n",
       "      <td>1</td>\n",
       "      <td>cellular</td>\n",
       "      <td>...</td>\n",
       "      <td>0</td>\n",
       "      <td>0</td>\n",
       "      <td>0</td>\n",
       "      <td>0</td>\n",
       "      <td>0</td>\n",
       "      <td>0</td>\n",
       "      <td>0</td>\n",
       "      <td>0</td>\n",
       "      <td>0</td>\n",
       "      <td>1</td>\n",
       "    </tr>\n",
       "    <tr>\n",
       "      <th>6557</th>\n",
       "      <td>40</td>\n",
       "      <td>technician</td>\n",
       "      <td>married</td>\n",
       "      <td>secondary</td>\n",
       "      <td>0</td>\n",
       "      <td>-3000 - 0</td>\n",
       "      <td>-496</td>\n",
       "      <td>0</td>\n",
       "      <td>0</td>\n",
       "      <td>telephone</td>\n",
       "      <td>...</td>\n",
       "      <td>0</td>\n",
       "      <td>0</td>\n",
       "      <td>0</td>\n",
       "      <td>0</td>\n",
       "      <td>0</td>\n",
       "      <td>0</td>\n",
       "      <td>1</td>\n",
       "      <td>0</td>\n",
       "      <td>0</td>\n",
       "      <td>0</td>\n",
       "    </tr>\n",
       "    <tr>\n",
       "      <th>9509</th>\n",
       "      <td>41</td>\n",
       "      <td>management</td>\n",
       "      <td>single</td>\n",
       "      <td>tertiary</td>\n",
       "      <td>0</td>\n",
       "      <td>-3000 - 0</td>\n",
       "      <td>0</td>\n",
       "      <td>0</td>\n",
       "      <td>0</td>\n",
       "      <td>cellular</td>\n",
       "      <td>...</td>\n",
       "      <td>0</td>\n",
       "      <td>0</td>\n",
       "      <td>0</td>\n",
       "      <td>0</td>\n",
       "      <td>0</td>\n",
       "      <td>1</td>\n",
       "      <td>0</td>\n",
       "      <td>0</td>\n",
       "      <td>0</td>\n",
       "      <td>0</td>\n",
       "    </tr>\n",
       "    <tr>\n",
       "      <th>418</th>\n",
       "      <td>45</td>\n",
       "      <td>entrepreneur</td>\n",
       "      <td>married</td>\n",
       "      <td>unknown</td>\n",
       "      <td>0</td>\n",
       "      <td>3000-6000</td>\n",
       "      <td>3133</td>\n",
       "      <td>1</td>\n",
       "      <td>1</td>\n",
       "      <td>cellular</td>\n",
       "      <td>...</td>\n",
       "      <td>0</td>\n",
       "      <td>1</td>\n",
       "      <td>0</td>\n",
       "      <td>0</td>\n",
       "      <td>0</td>\n",
       "      <td>0</td>\n",
       "      <td>1</td>\n",
       "      <td>0</td>\n",
       "      <td>0</td>\n",
       "      <td>0</td>\n",
       "    </tr>\n",
       "    <tr>\n",
       "      <th>1350</th>\n",
       "      <td>30</td>\n",
       "      <td>management</td>\n",
       "      <td>single</td>\n",
       "      <td>tertiary</td>\n",
       "      <td>0</td>\n",
       "      <td>3000-6000</td>\n",
       "      <td>3473</td>\n",
       "      <td>0</td>\n",
       "      <td>0</td>\n",
       "      <td>cellular</td>\n",
       "      <td>...</td>\n",
       "      <td>0</td>\n",
       "      <td>0</td>\n",
       "      <td>0</td>\n",
       "      <td>0</td>\n",
       "      <td>0</td>\n",
       "      <td>0</td>\n",
       "      <td>0</td>\n",
       "      <td>0</td>\n",
       "      <td>0</td>\n",
       "      <td>0</td>\n",
       "    </tr>\n",
       "    <tr>\n",
       "      <th>6003</th>\n",
       "      <td>26</td>\n",
       "      <td>technician</td>\n",
       "      <td>married</td>\n",
       "      <td>tertiary</td>\n",
       "      <td>0</td>\n",
       "      <td>0-3000</td>\n",
       "      <td>8</td>\n",
       "      <td>1</td>\n",
       "      <td>1</td>\n",
       "      <td>unknown</td>\n",
       "      <td>...</td>\n",
       "      <td>0</td>\n",
       "      <td>0</td>\n",
       "      <td>0</td>\n",
       "      <td>0</td>\n",
       "      <td>1</td>\n",
       "      <td>0</td>\n",
       "      <td>0</td>\n",
       "      <td>0</td>\n",
       "      <td>0</td>\n",
       "      <td>0</td>\n",
       "    </tr>\n",
       "    <tr>\n",
       "      <th>5409</th>\n",
       "      <td>34</td>\n",
       "      <td>technician</td>\n",
       "      <td>single</td>\n",
       "      <td>tertiary</td>\n",
       "      <td>0</td>\n",
       "      <td>0-3000</td>\n",
       "      <td>2047</td>\n",
       "      <td>1</td>\n",
       "      <td>0</td>\n",
       "      <td>cellular</td>\n",
       "      <td>...</td>\n",
       "      <td>0</td>\n",
       "      <td>0</td>\n",
       "      <td>0</td>\n",
       "      <td>0</td>\n",
       "      <td>0</td>\n",
       "      <td>0</td>\n",
       "      <td>1</td>\n",
       "      <td>0</td>\n",
       "      <td>0</td>\n",
       "      <td>0</td>\n",
       "    </tr>\n",
       "    <tr>\n",
       "      <th>9886</th>\n",
       "      <td>31</td>\n",
       "      <td>management</td>\n",
       "      <td>married</td>\n",
       "      <td>tertiary</td>\n",
       "      <td>0</td>\n",
       "      <td>0-3000</td>\n",
       "      <td>84</td>\n",
       "      <td>0</td>\n",
       "      <td>1</td>\n",
       "      <td>unknown</td>\n",
       "      <td>...</td>\n",
       "      <td>0</td>\n",
       "      <td>0</td>\n",
       "      <td>0</td>\n",
       "      <td>0</td>\n",
       "      <td>0</td>\n",
       "      <td>0</td>\n",
       "      <td>1</td>\n",
       "      <td>0</td>\n",
       "      <td>0</td>\n",
       "      <td>0</td>\n",
       "    </tr>\n",
       "    <tr>\n",
       "      <th>3827</th>\n",
       "      <td>38</td>\n",
       "      <td>technician</td>\n",
       "      <td>married</td>\n",
       "      <td>secondary</td>\n",
       "      <td>0</td>\n",
       "      <td>0-3000</td>\n",
       "      <td>318</td>\n",
       "      <td>0</td>\n",
       "      <td>0</td>\n",
       "      <td>cellular</td>\n",
       "      <td>...</td>\n",
       "      <td>0</td>\n",
       "      <td>0</td>\n",
       "      <td>0</td>\n",
       "      <td>0</td>\n",
       "      <td>0</td>\n",
       "      <td>1</td>\n",
       "      <td>0</td>\n",
       "      <td>0</td>\n",
       "      <td>0</td>\n",
       "      <td>0</td>\n",
       "    </tr>\n",
       "    <tr>\n",
       "      <th>6130</th>\n",
       "      <td>28</td>\n",
       "      <td>unemployed</td>\n",
       "      <td>married</td>\n",
       "      <td>secondary</td>\n",
       "      <td>0</td>\n",
       "      <td>0-3000</td>\n",
       "      <td>863</td>\n",
       "      <td>1</td>\n",
       "      <td>1</td>\n",
       "      <td>unknown</td>\n",
       "      <td>...</td>\n",
       "      <td>1</td>\n",
       "      <td>0</td>\n",
       "      <td>0</td>\n",
       "      <td>0</td>\n",
       "      <td>1</td>\n",
       "      <td>0</td>\n",
       "      <td>0</td>\n",
       "      <td>0</td>\n",
       "      <td>0</td>\n",
       "      <td>0</td>\n",
       "    </tr>\n",
       "    <tr>\n",
       "      <th>8814</th>\n",
       "      <td>33</td>\n",
       "      <td>management</td>\n",
       "      <td>single</td>\n",
       "      <td>tertiary</td>\n",
       "      <td>0</td>\n",
       "      <td>0-3000</td>\n",
       "      <td>349</td>\n",
       "      <td>0</td>\n",
       "      <td>0</td>\n",
       "      <td>cellular</td>\n",
       "      <td>...</td>\n",
       "      <td>0</td>\n",
       "      <td>0</td>\n",
       "      <td>0</td>\n",
       "      <td>0</td>\n",
       "      <td>0</td>\n",
       "      <td>1</td>\n",
       "      <td>0</td>\n",
       "      <td>0</td>\n",
       "      <td>0</td>\n",
       "      <td>0</td>\n",
       "    </tr>\n",
       "    <tr>\n",
       "      <th>4768</th>\n",
       "      <td>54</td>\n",
       "      <td>self-employed</td>\n",
       "      <td>married</td>\n",
       "      <td>tertiary</td>\n",
       "      <td>0</td>\n",
       "      <td>0-3000</td>\n",
       "      <td>990</td>\n",
       "      <td>0</td>\n",
       "      <td>0</td>\n",
       "      <td>cellular</td>\n",
       "      <td>...</td>\n",
       "      <td>0</td>\n",
       "      <td>0</td>\n",
       "      <td>0</td>\n",
       "      <td>0</td>\n",
       "      <td>0</td>\n",
       "      <td>0</td>\n",
       "      <td>0</td>\n",
       "      <td>1</td>\n",
       "      <td>0</td>\n",
       "      <td>0</td>\n",
       "    </tr>\n",
       "    <tr>\n",
       "      <th>9789</th>\n",
       "      <td>53</td>\n",
       "      <td>housemaid</td>\n",
       "      <td>married</td>\n",
       "      <td>secondary</td>\n",
       "      <td>0</td>\n",
       "      <td>0-3000</td>\n",
       "      <td>1182</td>\n",
       "      <td>1</td>\n",
       "      <td>0</td>\n",
       "      <td>cellular</td>\n",
       "      <td>...</td>\n",
       "      <td>0</td>\n",
       "      <td>0</td>\n",
       "      <td>1</td>\n",
       "      <td>0</td>\n",
       "      <td>0</td>\n",
       "      <td>0</td>\n",
       "      <td>0</td>\n",
       "      <td>0</td>\n",
       "      <td>0</td>\n",
       "      <td>0</td>\n",
       "    </tr>\n",
       "    <tr>\n",
       "      <th>10120</th>\n",
       "      <td>31</td>\n",
       "      <td>technician</td>\n",
       "      <td>single</td>\n",
       "      <td>tertiary</td>\n",
       "      <td>0</td>\n",
       "      <td>0-3000</td>\n",
       "      <td>53</td>\n",
       "      <td>0</td>\n",
       "      <td>0</td>\n",
       "      <td>cellular</td>\n",
       "      <td>...</td>\n",
       "      <td>0</td>\n",
       "      <td>0</td>\n",
       "      <td>0</td>\n",
       "      <td>0</td>\n",
       "      <td>0</td>\n",
       "      <td>0</td>\n",
       "      <td>0</td>\n",
       "      <td>0</td>\n",
       "      <td>0</td>\n",
       "      <td>0</td>\n",
       "    </tr>\n",
       "    <tr>\n",
       "      <th>2758</th>\n",
       "      <td>30</td>\n",
       "      <td>management</td>\n",
       "      <td>single</td>\n",
       "      <td>tertiary</td>\n",
       "      <td>0</td>\n",
       "      <td>0-3000</td>\n",
       "      <td>536</td>\n",
       "      <td>0</td>\n",
       "      <td>0</td>\n",
       "      <td>cellular</td>\n",
       "      <td>...</td>\n",
       "      <td>0</td>\n",
       "      <td>0</td>\n",
       "      <td>0</td>\n",
       "      <td>0</td>\n",
       "      <td>0</td>\n",
       "      <td>0</td>\n",
       "      <td>0</td>\n",
       "      <td>0</td>\n",
       "      <td>0</td>\n",
       "      <td>0</td>\n",
       "    </tr>\n",
       "    <tr>\n",
       "      <th>10522</th>\n",
       "      <td>47</td>\n",
       "      <td>management</td>\n",
       "      <td>divorced</td>\n",
       "      <td>tertiary</td>\n",
       "      <td>0</td>\n",
       "      <td>3000-6000</td>\n",
       "      <td>4556</td>\n",
       "      <td>1</td>\n",
       "      <td>0</td>\n",
       "      <td>unknown</td>\n",
       "      <td>...</td>\n",
       "      <td>0</td>\n",
       "      <td>0</td>\n",
       "      <td>0</td>\n",
       "      <td>0</td>\n",
       "      <td>1</td>\n",
       "      <td>0</td>\n",
       "      <td>0</td>\n",
       "      <td>0</td>\n",
       "      <td>0</td>\n",
       "      <td>0</td>\n",
       "    </tr>\n",
       "    <tr>\n",
       "      <th>1818</th>\n",
       "      <td>28</td>\n",
       "      <td>blue-collar</td>\n",
       "      <td>single</td>\n",
       "      <td>secondary</td>\n",
       "      <td>0</td>\n",
       "      <td>0-3000</td>\n",
       "      <td>524</td>\n",
       "      <td>1</td>\n",
       "      <td>0</td>\n",
       "      <td>cellular</td>\n",
       "      <td>...</td>\n",
       "      <td>0</td>\n",
       "      <td>0</td>\n",
       "      <td>0</td>\n",
       "      <td>0</td>\n",
       "      <td>1</td>\n",
       "      <td>0</td>\n",
       "      <td>0</td>\n",
       "      <td>0</td>\n",
       "      <td>0</td>\n",
       "      <td>0</td>\n",
       "    </tr>\n",
       "  </tbody>\n",
       "</table>\n",
       "<p>20 rows × 36 columns</p>\n",
       "</div>"
      ],
      "text/plain": [
       "       age            job   marital  education  default balance_seg  balance  \\\n",
       "9852    31         admin.    single  secondary        0   -3000 - 0     -422   \n",
       "10253   40     technician   married  secondary        0   6000-9000     7313   \n",
       "7942    30    blue-collar   married  secondary        0      0-3000      673   \n",
       "1554    59     management   married   tertiary        0   -3000 - 0        0   \n",
       "6557    40     technician   married  secondary        0   -3000 - 0     -496   \n",
       "9509    41     management    single   tertiary        0   -3000 - 0        0   \n",
       "418     45   entrepreneur   married    unknown        0   3000-6000     3133   \n",
       "1350    30     management    single   tertiary        0   3000-6000     3473   \n",
       "6003    26     technician   married   tertiary        0      0-3000        8   \n",
       "5409    34     technician    single   tertiary        0      0-3000     2047   \n",
       "9886    31     management   married   tertiary        0      0-3000       84   \n",
       "3827    38     technician   married  secondary        0      0-3000      318   \n",
       "6130    28     unemployed   married  secondary        0      0-3000      863   \n",
       "8814    33     management    single   tertiary        0      0-3000      349   \n",
       "4768    54  self-employed   married   tertiary        0      0-3000      990   \n",
       "9789    53      housemaid   married  secondary        0      0-3000     1182   \n",
       "10120   31     technician    single   tertiary        0      0-3000       53   \n",
       "2758    30     management    single   tertiary        0      0-3000      536   \n",
       "10522   47     management  divorced   tertiary        0   3000-6000     4556   \n",
       "1818    28    blue-collar    single  secondary        0      0-3000      524   \n",
       "\n",
       "       housing  loan    contact  ...  job_unemployed job_entrepreneur  \\\n",
       "9852         1     0   cellular  ...               0                0   \n",
       "10253        1     0   cellular  ...               0                0   \n",
       "7942         1     0    unknown  ...               0                0   \n",
       "1554         1     1   cellular  ...               0                0   \n",
       "6557         0     0  telephone  ...               0                0   \n",
       "9509         0     0   cellular  ...               0                0   \n",
       "418          1     1   cellular  ...               0                1   \n",
       "1350         0     0   cellular  ...               0                0   \n",
       "6003         1     1    unknown  ...               0                0   \n",
       "5409         1     0   cellular  ...               0                0   \n",
       "9886         0     1    unknown  ...               0                0   \n",
       "3827         0     0   cellular  ...               0                0   \n",
       "6130         1     1    unknown  ...               1                0   \n",
       "8814         0     0   cellular  ...               0                0   \n",
       "4768         0     0   cellular  ...               0                0   \n",
       "9789         1     0   cellular  ...               0                0   \n",
       "10120        0     0   cellular  ...               0                0   \n",
       "2758         0     0   cellular  ...               0                0   \n",
       "10522        1     0    unknown  ...               0                0   \n",
       "1818         1     0   cellular  ...               0                0   \n",
       "\n",
       "       job_housemaid  job_unknown  month_may  month_aug month_jul  month_jun  \\\n",
       "9852               0            0          1          0         0          0   \n",
       "10253              0            0          0          0         0          0   \n",
       "7942               0            0          1          0         0          0   \n",
       "1554               0            0          0          0         0          0   \n",
       "6557               0            0          0          0         1          0   \n",
       "9509               0            0          0          1         0          0   \n",
       "418                0            0          0          0         1          0   \n",
       "1350               0            0          0          0         0          0   \n",
       "6003               0            0          1          0         0          0   \n",
       "5409               0            0          0          0         1          0   \n",
       "9886               0            0          0          0         1          0   \n",
       "3827               0            0          0          1         0          0   \n",
       "6130               0            0          1          0         0          0   \n",
       "8814               0            0          0          1         0          0   \n",
       "4768               0            0          0          0         0          1   \n",
       "9789               1            0          0          0         0          0   \n",
       "10120              0            0          0          0         0          0   \n",
       "2758               0            0          0          0         0          0   \n",
       "10522              0            0          1          0         0          0   \n",
       "1818               0            0          1          0         0          0   \n",
       "\n",
       "       month_nov  month_apr  \n",
       "9852           0          0  \n",
       "10253          1          0  \n",
       "7942           0          0  \n",
       "1554           0          1  \n",
       "6557           0          0  \n",
       "9509           0          0  \n",
       "418            0          0  \n",
       "1350           0          0  \n",
       "6003           0          0  \n",
       "5409           0          0  \n",
       "9886           0          0  \n",
       "3827           0          0  \n",
       "6130           0          0  \n",
       "8814           0          0  \n",
       "4768           0          0  \n",
       "9789           0          0  \n",
       "10120          0          0  \n",
       "2758           0          0  \n",
       "10522          0          0  \n",
       "1818           0          0  \n",
       "\n",
       "[20 rows x 36 columns]"
      ]
     },
     "execution_count": 87,
     "metadata": {},
     "output_type": "execute_result"
    }
   ],
   "source": [
    "balance_seg = pd.cut(data.balance, bins = [-6900,-3000,0,3000,6000,9000,12000,15000,20000,30000,60000,85000], labels= ['-6901 / -3000','-3000 - 0','0-3000','3000-6000','6000-9000','9000-12000','12000-15000','15000-20000','20000-30000','30000-60000','60000+'])\n",
    "data.insert(5, 'balance_seg', balance_seg)\n",
    "data.sample(20)"
   ]
  },
  {
   "cell_type": "code",
   "execution_count": 90,
   "id": "79f52c58",
   "metadata": {},
   "outputs": [
    {
     "data": {
      "image/png": "[encoded data removed]",
      "text/plain": [
       "<Figure size 1440x360 with 1 Axes>"
      ]
     },
     "metadata": {
      "needs_background": "light"
     },
     "output_type": "display_data"
    },
    {
     "data": {
      "image/png": "[encoded data removed]",
      "text/plain": [
       "<Figure size 1440x360 with 1 Axes>"
      ]
     },
     "metadata": {
      "needs_background": "light"
     },
     "output_type": "display_data"
    },
    {
     "data": {
      "image/png": "[encoded data removed]",
      "text/plain": [
       "<Figure size 1440x360 with 1 Axes>"
      ]
     },
     "metadata": {
      "needs_background": "light"
     },
     "output_type": "display_data"
    }
   ],
   "source": [
    "plt.figure(figsize=[20,5])\n",
    "cx = sns.countplot(x=\"balance_seg\", hue=\"housing\", data=data)\n",
    "plt.show()\n",
    "plt.figure(figsize=[20,5])\n",
    "cx = sns.countplot(x=\"balance_seg\", hue=\"loan\", data=data)\n",
    "plt.show()\n",
    "plt.figure(figsize=[20,5])\n",
    "cx = sns.countplot(x=\"balance_seg\", hue=\"deposit\", data=data)\n",
    "plt.show()"
   ]
  },
  {
   "cell_type": "code",
   "execution_count": 92,
   "id": "98717730",
   "metadata": {},
   "outputs": [
    {
     "data": {
      "image/png": "[encoded data removed]",
      "text/plain": [
       "<Figure size 1440x360 with 1 Axes>"
      ]
     },
     "metadata": {
      "needs_background": "light"
     },
     "output_type": "display_data"
    },
    {
     "data": {
      "image/png": "[encoded data removed]",
      "text/plain": [
       "<Figure size 1440x360 with 1 Axes>"
      ]
     },
     "metadata": {
      "needs_background": "light"
     },
     "output_type": "display_data"
    },
    {
     "data": {
      "image/png": "[encoded data removed]",
      "text/plain": [
       "<Figure size 1440x360 with 1 Axes>"
      ]
     },
     "metadata": {
      "needs_background": "light"
     },
     "output_type": "display_data"
    }
   ],
   "source": [
    "plt.figure(figsize=[20,5])\n",
    "cx = sns.countplot(x=\"Age_Group\", hue=\"housing\", data=data)\n",
    "plt.show()\n",
    "plt.figure(figsize=[20,5])\n",
    "cx = sns.countplot(x=\"Age_Group\", hue=\"loan\", data=data)\n",
    "plt.show()\n",
    "plt.figure(figsize=[20,5])\n",
    "cx = sns.countplot(x=\"Age_Group\", hue=\"deposit\", data=data)\n",
    "plt.show()"
   ]
  },
  {
   "cell_type": "code",
   "execution_count": 94,
   "id": "d069eb9e",
   "metadata": {},
   "outputs": [
    {
     "data": {
      "image/png": "[encoded data removed]",
      "text/plain": [
       "<Figure size 360x360 with 1 Axes>"
      ]
     },
     "metadata": {
      "needs_background": "light"
     },
     "output_type": "display_data"
    },
    {
     "data": {
      "image/png": "[encoded data removed]",
      "text/plain": [
       "<Figure size 360x360 with 1 Axes>"
      ]
     },
     "metadata": {
      "needs_background": "light"
     },
     "output_type": "display_data"
    },
    {
     "data": {
      "image/png": "[encoded data removed]",
      "text/plain": [
       "<Figure size 360x360 with 1 Axes>"
      ]
     },
     "metadata": {
      "needs_background": "light"
     },
     "output_type": "display_data"
    }
   ],
   "source": [
    "plt.figure(figsize=[5,5])\n",
    "cx = sns.countplot(x=\"marital\", hue=\"housing\", data=data)\n",
    "plt.show()\n",
    "plt.figure(figsize=[5,5])\n",
    "cx = sns.countplot(x=\"marital\", hue=\"loan\", data=data)\n",
    "plt.show()\n",
    "plt.figure(figsize=[5,5])\n",
    "cx = sns.countplot(x=\"marital\", hue=\"deposit\", data=data)\n",
    "plt.show()"
   ]
  },
  {
   "cell_type": "code",
   "execution_count": 95,
   "id": "ae57caed",
   "metadata": {},
   "outputs": [
    {
     "data": {
      "image/png": "[encoded data removed]",
      "text/plain": [
       "<Figure size 1440x360 with 1 Axes>"
      ]
     },
     "metadata": {
      "needs_background": "light"
     },
     "output_type": "display_data"
    },
    {
     "data": {
      "image/png": "[encoded data removed]",
      "text/plain": [
       "<Figure size 1440x360 with 1 Axes>"
      ]
     },
     "metadata": {
      "needs_background": "light"
     },
     "output_type": "display_data"
    },
    {
     "data": {
      "image/png": "[encoded data removed]",
      "text/plain": [
       "<Figure size 1440x360 with 1 Axes>"
      ]
     },
     "metadata": {
      "needs_background": "light"
     },
     "output_type": "display_data"
    }
   ],
   "source": [
    "plt.figure(figsize=[20,5])\n",
    "cx = sns.countplot(x=\"education\", hue=\"housing\", data=data)\n",
    "plt.show()\n",
    "plt.figure(figsize=[20,5])\n",
    "cx = sns.countplot(x=\"education\", hue=\"loan\", data=data)\n",
    "plt.show()\n",
    "plt.figure(figsize=[20,5])\n",
    "cx = sns.countplot(x=\"education\", hue=\"deposit\", data=data)\n",
    "plt.show()"
   ]
  },
  {
   "cell_type": "code",
   "execution_count": 97,
   "id": "b1b4622a",
   "metadata": {},
   "outputs": [
    {
     "data": {
      "image/png": "[encoded data removed]",
      "text/plain": [
       "<Figure size 360x360 with 1 Axes>"
      ]
     },
     "metadata": {
      "needs_background": "light"
     },
     "output_type": "display_data"
    },
    {
     "data": {
      "image/png": "[encoded data removed]",
      "text/plain": [
       "<Figure size 360x360 with 1 Axes>"
      ]
     },
     "metadata": {
      "needs_background": "light"
     },
     "output_type": "display_data"
    },
    {
     "data": {
      "image/png": "[encoded data removed]",
      "text/plain": [
       "<Figure size 360x360 with 1 Axes>"
      ]
     },
     "metadata": {
      "needs_background": "light"
     },
     "output_type": "display_data"
    }
   ],
   "source": [
    "plt.figure(figsize=[5,5])\n",
    "cx = sns.countplot(x=\"default\", hue=\"housing\", data=data)\n",
    "plt.show()\n",
    "plt.figure(figsize=[5,5])\n",
    "cx = sns.countplot(x=\"default\", hue=\"loan\", data=data)\n",
    "plt.show()\n",
    "plt.figure(figsize=[5,5])\n",
    "cx = sns.countplot(x=\"default\", hue=\"deposit\", data=data)\n",
    "plt.show()"
   ]
  },
  {
   "cell_type": "code",
   "execution_count": null,
   "id": "62ac6b0d",
   "metadata": {},
   "outputs": [],
   "source": []
  }
 ],
 "metadata": {
  "kernelspec": {
   "display_name": "Python 3",
   "language": "python",
   "name": "python3"
  },
  "language_info": {
   "codemirror_mode": {
    "name": "ipython",
    "version": 3
   },
   "file_extension": ".py",
   "mimetype": "text/x-python",
   "name": "python",
   "nbconvert_exporter": "python",
   "pygments_lexer": "ipython3",
   "version": "3.8.12"
  }
 },
 "nbformat": 4,
 "nbformat_minor": 5
}
